{
 "cells": [
  {
   "cell_type": "markdown",
   "metadata": {
    "id": "fads5xqVbji3"
   },
   "source": [
    "# Assignment/Task 9\n",
    "\n",
    "## GO_STP_2\n",
    "## Prateek Paul\n",
    "\n",
    "#### Task Link : https://www.goeduhub.com/11612/logistic-regression-predicting-employee-attrition-learning\n",
    "\n",
    "#Logistic Regression Model on Why HR Leaving | Predicting employee attrition using Machine Learning\n",
    "\n",
    "Predict retention of an employee within an organization such that whether the employee will leave the company or continue with it. An organization is only as good as its employees, and these people are the true source of its competitive advantage. Dataset is downloaded from Kaggle. Link: https://www.kaggle.com/giripujar/hr-analytics\n",
    "\n",
    "First do data exploration and visualization, after this create a logistic regression model to predict Employee Attrition Using Machine Learning & Python."
   ]
  },
  {
   "cell_type": "markdown",
   "metadata": {
    "id": "yP_SsL-ccZyt"
   },
   "source": [
    "Obtaining the Data-"
   ]
  },
  {
   "cell_type": "code",
   "execution_count": 1,
   "metadata": {
    "executionInfo": {
     "elapsed": 1148,
     "status": "ok",
     "timestamp": 1623153001664,
     "user": {
      "displayName": "kajal rai",
      "photoUrl": "https://lh3.googleusercontent.com/a-/AOh14Gg68NzXNjnWc9NwDDDkGMl-abqbDW1VuGmYTDBjgA=s64",
      "userId": "03677648993455904671"
     },
     "user_tz": -330
    },
    "id": "rru48QEfbhrO"
   },
   "outputs": [],
   "source": [
    "# Import the neccessary modules for data manipulation and visual representation\n",
    "import pandas as pd\n",
    "import numpy as np\n",
    "import matplotlib.pyplot as plt\n",
    "import matplotlib as matplot\n",
    "import seaborn as sns\n",
    "%matplotlib inline"
   ]
  },
  {
   "cell_type": "code",
   "execution_count": 2,
   "metadata": {
    "colab": {
     "base_uri": "https://localhost:8080/",
     "height": 442
    },
    "executionInfo": {
     "elapsed": 488,
     "status": "ok",
     "timestamp": 1623153207201,
     "user": {
      "displayName": "kajal rai",
      "photoUrl": "https://lh3.googleusercontent.com/a-/AOh14Gg68NzXNjnWc9NwDDDkGMl-abqbDW1VuGmYTDBjgA=s64",
      "userId": "03677648993455904671"
     },
     "user_tz": -330
    },
    "id": "oqOhqkj0dBRP",
    "outputId": "aeea3452-44c5-471f-db55-709756bdc3d0"
   },
   "outputs": [
    {
     "data": {
      "text/html": [
       "<div>\n",
       "<style scoped>\n",
       "    .dataframe tbody tr th:only-of-type {\n",
       "        vertical-align: middle;\n",
       "    }\n",
       "\n",
       "    .dataframe tbody tr th {\n",
       "        vertical-align: top;\n",
       "    }\n",
       "\n",
       "    .dataframe thead th {\n",
       "        text-align: right;\n",
       "    }\n",
       "</style>\n",
       "<table border=\"1\" class=\"dataframe\">\n",
       "  <thead>\n",
       "    <tr style=\"text-align: right;\">\n",
       "      <th></th>\n",
       "      <th>satisfaction_level</th>\n",
       "      <th>last_evaluation</th>\n",
       "      <th>number_project</th>\n",
       "      <th>average_montly_hours</th>\n",
       "      <th>time_spend_company</th>\n",
       "      <th>Work_accident</th>\n",
       "      <th>left</th>\n",
       "      <th>promotion_last_5years</th>\n",
       "      <th>Department</th>\n",
       "      <th>salary</th>\n",
       "    </tr>\n",
       "  </thead>\n",
       "  <tbody>\n",
       "    <tr>\n",
       "      <th>0</th>\n",
       "      <td>0.38</td>\n",
       "      <td>0.53</td>\n",
       "      <td>2</td>\n",
       "      <td>157</td>\n",
       "      <td>3</td>\n",
       "      <td>0</td>\n",
       "      <td>1</td>\n",
       "      <td>0</td>\n",
       "      <td>sales</td>\n",
       "      <td>low</td>\n",
       "    </tr>\n",
       "    <tr>\n",
       "      <th>1</th>\n",
       "      <td>0.80</td>\n",
       "      <td>0.86</td>\n",
       "      <td>5</td>\n",
       "      <td>262</td>\n",
       "      <td>6</td>\n",
       "      <td>0</td>\n",
       "      <td>1</td>\n",
       "      <td>0</td>\n",
       "      <td>sales</td>\n",
       "      <td>medium</td>\n",
       "    </tr>\n",
       "    <tr>\n",
       "      <th>2</th>\n",
       "      <td>0.11</td>\n",
       "      <td>0.88</td>\n",
       "      <td>7</td>\n",
       "      <td>272</td>\n",
       "      <td>4</td>\n",
       "      <td>0</td>\n",
       "      <td>1</td>\n",
       "      <td>0</td>\n",
       "      <td>sales</td>\n",
       "      <td>medium</td>\n",
       "    </tr>\n",
       "    <tr>\n",
       "      <th>3</th>\n",
       "      <td>0.72</td>\n",
       "      <td>0.87</td>\n",
       "      <td>5</td>\n",
       "      <td>223</td>\n",
       "      <td>5</td>\n",
       "      <td>0</td>\n",
       "      <td>1</td>\n",
       "      <td>0</td>\n",
       "      <td>sales</td>\n",
       "      <td>low</td>\n",
       "    </tr>\n",
       "    <tr>\n",
       "      <th>4</th>\n",
       "      <td>0.37</td>\n",
       "      <td>0.52</td>\n",
       "      <td>2</td>\n",
       "      <td>159</td>\n",
       "      <td>3</td>\n",
       "      <td>0</td>\n",
       "      <td>1</td>\n",
       "      <td>0</td>\n",
       "      <td>sales</td>\n",
       "      <td>low</td>\n",
       "    </tr>\n",
       "    <tr>\n",
       "      <th>...</th>\n",
       "      <td>...</td>\n",
       "      <td>...</td>\n",
       "      <td>...</td>\n",
       "      <td>...</td>\n",
       "      <td>...</td>\n",
       "      <td>...</td>\n",
       "      <td>...</td>\n",
       "      <td>...</td>\n",
       "      <td>...</td>\n",
       "      <td>...</td>\n",
       "    </tr>\n",
       "    <tr>\n",
       "      <th>14994</th>\n",
       "      <td>0.40</td>\n",
       "      <td>0.57</td>\n",
       "      <td>2</td>\n",
       "      <td>151</td>\n",
       "      <td>3</td>\n",
       "      <td>0</td>\n",
       "      <td>1</td>\n",
       "      <td>0</td>\n",
       "      <td>support</td>\n",
       "      <td>low</td>\n",
       "    </tr>\n",
       "    <tr>\n",
       "      <th>14995</th>\n",
       "      <td>0.37</td>\n",
       "      <td>0.48</td>\n",
       "      <td>2</td>\n",
       "      <td>160</td>\n",
       "      <td>3</td>\n",
       "      <td>0</td>\n",
       "      <td>1</td>\n",
       "      <td>0</td>\n",
       "      <td>support</td>\n",
       "      <td>low</td>\n",
       "    </tr>\n",
       "    <tr>\n",
       "      <th>14996</th>\n",
       "      <td>0.37</td>\n",
       "      <td>0.53</td>\n",
       "      <td>2</td>\n",
       "      <td>143</td>\n",
       "      <td>3</td>\n",
       "      <td>0</td>\n",
       "      <td>1</td>\n",
       "      <td>0</td>\n",
       "      <td>support</td>\n",
       "      <td>low</td>\n",
       "    </tr>\n",
       "    <tr>\n",
       "      <th>14997</th>\n",
       "      <td>0.11</td>\n",
       "      <td>0.96</td>\n",
       "      <td>6</td>\n",
       "      <td>280</td>\n",
       "      <td>4</td>\n",
       "      <td>0</td>\n",
       "      <td>1</td>\n",
       "      <td>0</td>\n",
       "      <td>support</td>\n",
       "      <td>low</td>\n",
       "    </tr>\n",
       "    <tr>\n",
       "      <th>14998</th>\n",
       "      <td>0.37</td>\n",
       "      <td>0.52</td>\n",
       "      <td>2</td>\n",
       "      <td>158</td>\n",
       "      <td>3</td>\n",
       "      <td>0</td>\n",
       "      <td>1</td>\n",
       "      <td>0</td>\n",
       "      <td>support</td>\n",
       "      <td>low</td>\n",
       "    </tr>\n",
       "  </tbody>\n",
       "</table>\n",
       "<p>14999 rows × 10 columns</p>\n",
       "</div>"
      ],
      "text/plain": [
       "       satisfaction_level  last_evaluation  number_project  \\\n",
       "0                    0.38             0.53               2   \n",
       "1                    0.80             0.86               5   \n",
       "2                    0.11             0.88               7   \n",
       "3                    0.72             0.87               5   \n",
       "4                    0.37             0.52               2   \n",
       "...                   ...              ...             ...   \n",
       "14994                0.40             0.57               2   \n",
       "14995                0.37             0.48               2   \n",
       "14996                0.37             0.53               2   \n",
       "14997                0.11             0.96               6   \n",
       "14998                0.37             0.52               2   \n",
       "\n",
       "       average_montly_hours  time_spend_company  Work_accident  left  \\\n",
       "0                       157                   3              0     1   \n",
       "1                       262                   6              0     1   \n",
       "2                       272                   4              0     1   \n",
       "3                       223                   5              0     1   \n",
       "4                       159                   3              0     1   \n",
       "...                     ...                 ...            ...   ...   \n",
       "14994                   151                   3              0     1   \n",
       "14995                   160                   3              0     1   \n",
       "14996                   143                   3              0     1   \n",
       "14997                   280                   4              0     1   \n",
       "14998                   158                   3              0     1   \n",
       "\n",
       "       promotion_last_5years Department  salary  \n",
       "0                          0      sales     low  \n",
       "1                          0      sales  medium  \n",
       "2                          0      sales  medium  \n",
       "3                          0      sales     low  \n",
       "4                          0      sales     low  \n",
       "...                      ...        ...     ...  \n",
       "14994                      0    support     low  \n",
       "14995                      0    support     low  \n",
       "14996                      0    support     low  \n",
       "14997                      0    support     low  \n",
       "14998                      0    support     low  \n",
       "\n",
       "[14999 rows x 10 columns]"
      ]
     },
     "execution_count": 2,
     "metadata": {},
     "output_type": "execute_result"
    }
   ],
   "source": [
    "#Read the analytics csv file and store our dataset into a dataframe called \"df\"\n",
    "df = pd.read_csv('HR_comma_sep.csv')\n",
    "df"
   ]
  },
  {
   "cell_type": "markdown",
   "metadata": {
    "id": "c_pvjla3dmJ8"
   },
   "source": [
    "**Scrubbing the data**\n",
    "\n",
    "---\n",
    "\n"
   ]
  },
  {
   "cell_type": "code",
   "execution_count": 3,
   "metadata": {
    "colab": {
     "base_uri": "https://localhost:8080/",
     "height": 0
    },
    "executionInfo": {
     "elapsed": 458,
     "status": "ok",
     "timestamp": 1623153129807,
     "user": {
      "displayName": "kajal rai",
      "photoUrl": "https://lh3.googleusercontent.com/a-/AOh14Gg68NzXNjnWc9NwDDDkGMl-abqbDW1VuGmYTDBjgA=s64",
      "userId": "03677648993455904671"
     },
     "user_tz": -330
    },
    "id": "ZLYULNbcdunA",
    "outputId": "0856cc90-52f3-49e1-fce1-0813b9900e18"
   },
   "outputs": [
    {
     "data": {
      "text/plain": [
       "satisfaction_level       False\n",
       "last_evaluation          False\n",
       "number_project           False\n",
       "average_montly_hours     False\n",
       "time_spend_company       False\n",
       "Work_accident            False\n",
       "left                     False\n",
       "promotion_last_5years    False\n",
       "Department               False\n",
       "salary                   False\n",
       "dtype: bool"
      ]
     },
     "execution_count": 3,
     "metadata": {},
     "output_type": "execute_result"
    }
   ],
   "source": [
    "# Check to see if there are any missing values in our data set\n",
    "df.isnull().any()"
   ]
  },
  {
   "cell_type": "code",
   "execution_count": 4,
   "metadata": {
    "colab": {
     "base_uri": "https://localhost:8080/",
     "height": 225
    },
    "executionInfo": {
     "elapsed": 499,
     "status": "ok",
     "timestamp": 1623153249735,
     "user": {
      "displayName": "kajal rai",
      "photoUrl": "https://lh3.googleusercontent.com/a-/AOh14Gg68NzXNjnWc9NwDDDkGMl-abqbDW1VuGmYTDBjgA=s64",
      "userId": "03677648993455904671"
     },
     "user_tz": -330
    },
    "id": "6oY-qZL8d1lg",
    "outputId": "303aed68-04f5-4579-ebdc-98153e9a2a3b"
   },
   "outputs": [
    {
     "data": {
      "text/html": [
       "<div>\n",
       "<style scoped>\n",
       "    .dataframe tbody tr th:only-of-type {\n",
       "        vertical-align: middle;\n",
       "    }\n",
       "\n",
       "    .dataframe tbody tr th {\n",
       "        vertical-align: top;\n",
       "    }\n",
       "\n",
       "    .dataframe thead th {\n",
       "        text-align: right;\n",
       "    }\n",
       "</style>\n",
       "<table border=\"1\" class=\"dataframe\">\n",
       "  <thead>\n",
       "    <tr style=\"text-align: right;\">\n",
       "      <th></th>\n",
       "      <th>satisfaction_level</th>\n",
       "      <th>last_evaluation</th>\n",
       "      <th>number_project</th>\n",
       "      <th>average_montly_hours</th>\n",
       "      <th>time_spend_company</th>\n",
       "      <th>Work_accident</th>\n",
       "      <th>left</th>\n",
       "      <th>promotion_last_5years</th>\n",
       "      <th>Department</th>\n",
       "      <th>salary</th>\n",
       "    </tr>\n",
       "  </thead>\n",
       "  <tbody>\n",
       "    <tr>\n",
       "      <th>0</th>\n",
       "      <td>0.38</td>\n",
       "      <td>0.53</td>\n",
       "      <td>2</td>\n",
       "      <td>157</td>\n",
       "      <td>3</td>\n",
       "      <td>0</td>\n",
       "      <td>1</td>\n",
       "      <td>0</td>\n",
       "      <td>sales</td>\n",
       "      <td>low</td>\n",
       "    </tr>\n",
       "    <tr>\n",
       "      <th>1</th>\n",
       "      <td>0.80</td>\n",
       "      <td>0.86</td>\n",
       "      <td>5</td>\n",
       "      <td>262</td>\n",
       "      <td>6</td>\n",
       "      <td>0</td>\n",
       "      <td>1</td>\n",
       "      <td>0</td>\n",
       "      <td>sales</td>\n",
       "      <td>medium</td>\n",
       "    </tr>\n",
       "    <tr>\n",
       "      <th>2</th>\n",
       "      <td>0.11</td>\n",
       "      <td>0.88</td>\n",
       "      <td>7</td>\n",
       "      <td>272</td>\n",
       "      <td>4</td>\n",
       "      <td>0</td>\n",
       "      <td>1</td>\n",
       "      <td>0</td>\n",
       "      <td>sales</td>\n",
       "      <td>medium</td>\n",
       "    </tr>\n",
       "    <tr>\n",
       "      <th>3</th>\n",
       "      <td>0.72</td>\n",
       "      <td>0.87</td>\n",
       "      <td>5</td>\n",
       "      <td>223</td>\n",
       "      <td>5</td>\n",
       "      <td>0</td>\n",
       "      <td>1</td>\n",
       "      <td>0</td>\n",
       "      <td>sales</td>\n",
       "      <td>low</td>\n",
       "    </tr>\n",
       "    <tr>\n",
       "      <th>4</th>\n",
       "      <td>0.37</td>\n",
       "      <td>0.52</td>\n",
       "      <td>2</td>\n",
       "      <td>159</td>\n",
       "      <td>3</td>\n",
       "      <td>0</td>\n",
       "      <td>1</td>\n",
       "      <td>0</td>\n",
       "      <td>sales</td>\n",
       "      <td>low</td>\n",
       "    </tr>\n",
       "  </tbody>\n",
       "</table>\n",
       "</div>"
      ],
      "text/plain": [
       "   satisfaction_level  last_evaluation  number_project  average_montly_hours  \\\n",
       "0                0.38             0.53               2                   157   \n",
       "1                0.80             0.86               5                   262   \n",
       "2                0.11             0.88               7                   272   \n",
       "3                0.72             0.87               5                   223   \n",
       "4                0.37             0.52               2                   159   \n",
       "\n",
       "   time_spend_company  Work_accident  left  promotion_last_5years Department  \\\n",
       "0                   3              0     1                      0      sales   \n",
       "1                   6              0     1                      0      sales   \n",
       "2                   4              0     1                      0      sales   \n",
       "3                   5              0     1                      0      sales   \n",
       "4                   3              0     1                      0      sales   \n",
       "\n",
       "   salary  \n",
       "0     low  \n",
       "1  medium  \n",
       "2  medium  \n",
       "3     low  \n",
       "4     low  "
      ]
     },
     "execution_count": 4,
     "metadata": {},
     "output_type": "execute_result"
    }
   ],
   "source": [
    " #Get a quick overview of what we are dealing with in our dataset\n",
    "df.head()"
   ]
  },
  {
   "cell_type": "code",
   "execution_count": 5,
   "metadata": {
    "executionInfo": {
     "elapsed": 489,
     "status": "ok",
     "timestamp": 1623153820590,
     "user": {
      "displayName": "kajal rai",
      "photoUrl": "https://lh3.googleusercontent.com/a-/AOh14Gg68NzXNjnWc9NwDDDkGMl-abqbDW1VuGmYTDBjgA=s64",
      "userId": "03677648993455904671"
     },
     "user_tz": -330
    },
    "id": "nyA7WQl6gS6-"
   },
   "outputs": [],
   "source": [
    "# Renaming certain columns for better readability\n",
    "df = df.rename(columns={'satisfaction_level': 'satisfaction', \n",
    "                        'last_evaluation': 'evaluation',\n",
    "                        'number_project': 'projectCount',\n",
    "                        'average_montly_hours': 'averageMonthlyHours',\n",
    "                        'time_spend_company': 'yearsAtCompany',\n",
    "                        'Work_accident': 'workAccident',\n",
    "                        'promotion_last_5years': 'promotion',\n",
    "                        'sales' : 'department',\n",
    "                        'left' : 'turnover'\n",
    "                        })"
   ]
  },
  {
   "cell_type": "code",
   "execution_count": 6,
   "metadata": {
    "colab": {
     "base_uri": "https://localhost:8080/",
     "height": 205
    },
    "executionInfo": {
     "elapsed": 495,
     "status": "ok",
     "timestamp": 1623153862996,
     "user": {
      "displayName": "kajal rai",
      "photoUrl": "https://lh3.googleusercontent.com/a-/AOh14Gg68NzXNjnWc9NwDDDkGMl-abqbDW1VuGmYTDBjgA=s64",
      "userId": "03677648993455904671"
     },
     "user_tz": -330
    },
    "id": "nDq32vjXglH8",
    "outputId": "9168a3c7-9c82-4c6c-ea1d-c033ceb1ebb9"
   },
   "outputs": [
    {
     "data": {
      "text/html": [
       "<div>\n",
       "<style scoped>\n",
       "    .dataframe tbody tr th:only-of-type {\n",
       "        vertical-align: middle;\n",
       "    }\n",
       "\n",
       "    .dataframe tbody tr th {\n",
       "        vertical-align: top;\n",
       "    }\n",
       "\n",
       "    .dataframe thead th {\n",
       "        text-align: right;\n",
       "    }\n",
       "</style>\n",
       "<table border=\"1\" class=\"dataframe\">\n",
       "  <thead>\n",
       "    <tr style=\"text-align: right;\">\n",
       "      <th></th>\n",
       "      <th>turnover</th>\n",
       "      <th>satisfaction</th>\n",
       "      <th>evaluation</th>\n",
       "      <th>projectCount</th>\n",
       "      <th>averageMonthlyHours</th>\n",
       "      <th>yearsAtCompany</th>\n",
       "      <th>workAccident</th>\n",
       "      <th>promotion</th>\n",
       "      <th>Department</th>\n",
       "      <th>salary</th>\n",
       "    </tr>\n",
       "  </thead>\n",
       "  <tbody>\n",
       "    <tr>\n",
       "      <th>0</th>\n",
       "      <td>1</td>\n",
       "      <td>0.38</td>\n",
       "      <td>0.53</td>\n",
       "      <td>2</td>\n",
       "      <td>157</td>\n",
       "      <td>3</td>\n",
       "      <td>0</td>\n",
       "      <td>0</td>\n",
       "      <td>sales</td>\n",
       "      <td>low</td>\n",
       "    </tr>\n",
       "    <tr>\n",
       "      <th>1</th>\n",
       "      <td>1</td>\n",
       "      <td>0.80</td>\n",
       "      <td>0.86</td>\n",
       "      <td>5</td>\n",
       "      <td>262</td>\n",
       "      <td>6</td>\n",
       "      <td>0</td>\n",
       "      <td>0</td>\n",
       "      <td>sales</td>\n",
       "      <td>medium</td>\n",
       "    </tr>\n",
       "    <tr>\n",
       "      <th>2</th>\n",
       "      <td>1</td>\n",
       "      <td>0.11</td>\n",
       "      <td>0.88</td>\n",
       "      <td>7</td>\n",
       "      <td>272</td>\n",
       "      <td>4</td>\n",
       "      <td>0</td>\n",
       "      <td>0</td>\n",
       "      <td>sales</td>\n",
       "      <td>medium</td>\n",
       "    </tr>\n",
       "    <tr>\n",
       "      <th>3</th>\n",
       "      <td>1</td>\n",
       "      <td>0.72</td>\n",
       "      <td>0.87</td>\n",
       "      <td>5</td>\n",
       "      <td>223</td>\n",
       "      <td>5</td>\n",
       "      <td>0</td>\n",
       "      <td>0</td>\n",
       "      <td>sales</td>\n",
       "      <td>low</td>\n",
       "    </tr>\n",
       "    <tr>\n",
       "      <th>4</th>\n",
       "      <td>1</td>\n",
       "      <td>0.37</td>\n",
       "      <td>0.52</td>\n",
       "      <td>2</td>\n",
       "      <td>159</td>\n",
       "      <td>3</td>\n",
       "      <td>0</td>\n",
       "      <td>0</td>\n",
       "      <td>sales</td>\n",
       "      <td>low</td>\n",
       "    </tr>\n",
       "  </tbody>\n",
       "</table>\n",
       "</div>"
      ],
      "text/plain": [
       "   turnover  satisfaction  evaluation  projectCount  averageMonthlyHours  \\\n",
       "0         1          0.38        0.53             2                  157   \n",
       "1         1          0.80        0.86             5                  262   \n",
       "2         1          0.11        0.88             7                  272   \n",
       "3         1          0.72        0.87             5                  223   \n",
       "4         1          0.37        0.52             2                  159   \n",
       "\n",
       "   yearsAtCompany  workAccident  promotion Department  salary  \n",
       "0               3             0          0      sales     low  \n",
       "1               6             0          0      sales  medium  \n",
       "2               4             0          0      sales  medium  \n",
       "3               5             0          0      sales     low  \n",
       "4               3             0          0      sales     low  "
      ]
     },
     "execution_count": 6,
     "metadata": {},
     "output_type": "execute_result"
    }
   ],
   "source": [
    "# Move the reponse variable \"turnover\" to the front of the table\n",
    "front = df['turnover']\n",
    "df.drop(labels=['turnover'], axis=1,inplace = True)\n",
    "df.insert(0, 'turnover', front)\n",
    "df.head()"
   ]
  },
  {
   "cell_type": "markdown",
   "metadata": {
    "id": "htXIVXXdgv1W"
   },
   "source": [
    "**Exploring  the data** \n",
    "\n",
    "---\n",
    "a. Statistical Overview\n",
    "\n"
   ]
  },
  {
   "cell_type": "code",
   "execution_count": 7,
   "metadata": {
    "colab": {
     "base_uri": "https://localhost:8080/",
     "height": 0
    },
    "executionInfo": {
     "elapsed": 539,
     "status": "ok",
     "timestamp": 1623154635975,
     "user": {
      "displayName": "kajal rai",
      "photoUrl": "https://lh3.googleusercontent.com/a-/AOh14Gg68NzXNjnWc9NwDDDkGMl-abqbDW1VuGmYTDBjgA=s64",
      "userId": "03677648993455904671"
     },
     "user_tz": -330
    },
    "id": "RUiMfbKIjdSO",
    "outputId": "88f0f44c-3c78-449f-bc6b-87d8af25caf2"
   },
   "outputs": [
    {
     "data": {
      "text/plain": [
       "(14999, 10)"
      ]
     },
     "execution_count": 7,
     "metadata": {},
     "output_type": "execute_result"
    }
   ],
   "source": [
    "# The dataset contains 10 columns and 14999 observations\n",
    "df.shape"
   ]
  },
  {
   "cell_type": "code",
   "execution_count": 8,
   "metadata": {
    "colab": {
     "base_uri": "https://localhost:8080/",
     "height": 0
    },
    "executionInfo": {
     "elapsed": 605,
     "status": "ok",
     "timestamp": 1623154658637,
     "user": {
      "displayName": "kajal rai",
      "photoUrl": "https://lh3.googleusercontent.com/a-/AOh14Gg68NzXNjnWc9NwDDDkGMl-abqbDW1VuGmYTDBjgA=s64",
      "userId": "03677648993455904671"
     },
     "user_tz": -330
    },
    "id": "PM9VYGMVjjwb",
    "outputId": "6292d998-ad48-4196-be1e-99a6ffcc9b7e"
   },
   "outputs": [
    {
     "data": {
      "text/plain": [
       "turnover                 int64\n",
       "satisfaction           float64\n",
       "evaluation             float64\n",
       "projectCount             int64\n",
       "averageMonthlyHours      int64\n",
       "yearsAtCompany           int64\n",
       "workAccident             int64\n",
       "promotion                int64\n",
       "Department              object\n",
       "salary                  object\n",
       "dtype: object"
      ]
     },
     "execution_count": 8,
     "metadata": {},
     "output_type": "execute_result"
    }
   ],
   "source": [
    "# Check the type of our features. \n",
    "df.dtypes"
   ]
  },
  {
   "cell_type": "code",
   "execution_count": 9,
   "metadata": {
    "colab": {
     "base_uri": "https://localhost:8080/",
     "height": 0
    },
    "executionInfo": {
     "elapsed": 490,
     "status": "ok",
     "timestamp": 1623154727698,
     "user": {
      "displayName": "kajal rai",
      "photoUrl": "https://lh3.googleusercontent.com/a-/AOh14Gg68NzXNjnWc9NwDDDkGMl-abqbDW1VuGmYTDBjgA=s64",
      "userId": "03677648993455904671"
     },
     "user_tz": -330
    },
    "id": "t-W2t28qjt-m",
    "outputId": "7f0e0bff-e0f9-4a64-b60e-a26f82c17d33"
   },
   "outputs": [
    {
     "data": {
      "text/plain": [
       "0    0.761917\n",
       "1    0.238083\n",
       "Name: turnover, dtype: float64"
      ]
     },
     "execution_count": 9,
     "metadata": {},
     "output_type": "execute_result"
    }
   ],
   "source": [
    "# Looks like about 76% of employees stayed and 24% of employees left. \n",
    "# NOTE: When performing cross validation, its important to maintain this turnover ratio\n",
    "turnover_rate = df.turnover.value_counts() / len(df)\n",
    "turnover_rate"
   ]
  },
  {
   "cell_type": "code",
   "execution_count": 10,
   "metadata": {
    "colab": {
     "base_uri": "https://localhost:8080/",
     "height": 299
    },
    "executionInfo": {
     "elapsed": 587,
     "status": "ok",
     "timestamp": 1623154763114,
     "user": {
      "displayName": "kajal rai",
      "photoUrl": "https://lh3.googleusercontent.com/a-/AOh14Gg68NzXNjnWc9NwDDDkGMl-abqbDW1VuGmYTDBjgA=s64",
      "userId": "03677648993455904671"
     },
     "user_tz": -330
    },
    "id": "gTJHX0o9j7pj",
    "outputId": "821188c8-1c0b-4f9c-82a3-ef0290a0c7aa"
   },
   "outputs": [
    {
     "data": {
      "text/html": [
       "<div>\n",
       "<style scoped>\n",
       "    .dataframe tbody tr th:only-of-type {\n",
       "        vertical-align: middle;\n",
       "    }\n",
       "\n",
       "    .dataframe tbody tr th {\n",
       "        vertical-align: top;\n",
       "    }\n",
       "\n",
       "    .dataframe thead th {\n",
       "        text-align: right;\n",
       "    }\n",
       "</style>\n",
       "<table border=\"1\" class=\"dataframe\">\n",
       "  <thead>\n",
       "    <tr style=\"text-align: right;\">\n",
       "      <th></th>\n",
       "      <th>turnover</th>\n",
       "      <th>satisfaction</th>\n",
       "      <th>evaluation</th>\n",
       "      <th>projectCount</th>\n",
       "      <th>averageMonthlyHours</th>\n",
       "      <th>yearsAtCompany</th>\n",
       "      <th>workAccident</th>\n",
       "      <th>promotion</th>\n",
       "    </tr>\n",
       "  </thead>\n",
       "  <tbody>\n",
       "    <tr>\n",
       "      <th>count</th>\n",
       "      <td>14999.000000</td>\n",
       "      <td>14999.000000</td>\n",
       "      <td>14999.000000</td>\n",
       "      <td>14999.000000</td>\n",
       "      <td>14999.000000</td>\n",
       "      <td>14999.000000</td>\n",
       "      <td>14999.000000</td>\n",
       "      <td>14999.000000</td>\n",
       "    </tr>\n",
       "    <tr>\n",
       "      <th>mean</th>\n",
       "      <td>0.238083</td>\n",
       "      <td>0.612834</td>\n",
       "      <td>0.716102</td>\n",
       "      <td>3.803054</td>\n",
       "      <td>201.050337</td>\n",
       "      <td>3.498233</td>\n",
       "      <td>0.144610</td>\n",
       "      <td>0.021268</td>\n",
       "    </tr>\n",
       "    <tr>\n",
       "      <th>std</th>\n",
       "      <td>0.425924</td>\n",
       "      <td>0.248631</td>\n",
       "      <td>0.171169</td>\n",
       "      <td>1.232592</td>\n",
       "      <td>49.943099</td>\n",
       "      <td>1.460136</td>\n",
       "      <td>0.351719</td>\n",
       "      <td>0.144281</td>\n",
       "    </tr>\n",
       "    <tr>\n",
       "      <th>min</th>\n",
       "      <td>0.000000</td>\n",
       "      <td>0.090000</td>\n",
       "      <td>0.360000</td>\n",
       "      <td>2.000000</td>\n",
       "      <td>96.000000</td>\n",
       "      <td>2.000000</td>\n",
       "      <td>0.000000</td>\n",
       "      <td>0.000000</td>\n",
       "    </tr>\n",
       "    <tr>\n",
       "      <th>25%</th>\n",
       "      <td>0.000000</td>\n",
       "      <td>0.440000</td>\n",
       "      <td>0.560000</td>\n",
       "      <td>3.000000</td>\n",
       "      <td>156.000000</td>\n",
       "      <td>3.000000</td>\n",
       "      <td>0.000000</td>\n",
       "      <td>0.000000</td>\n",
       "    </tr>\n",
       "    <tr>\n",
       "      <th>50%</th>\n",
       "      <td>0.000000</td>\n",
       "      <td>0.640000</td>\n",
       "      <td>0.720000</td>\n",
       "      <td>4.000000</td>\n",
       "      <td>200.000000</td>\n",
       "      <td>3.000000</td>\n",
       "      <td>0.000000</td>\n",
       "      <td>0.000000</td>\n",
       "    </tr>\n",
       "    <tr>\n",
       "      <th>75%</th>\n",
       "      <td>0.000000</td>\n",
       "      <td>0.820000</td>\n",
       "      <td>0.870000</td>\n",
       "      <td>5.000000</td>\n",
       "      <td>245.000000</td>\n",
       "      <td>4.000000</td>\n",
       "      <td>0.000000</td>\n",
       "      <td>0.000000</td>\n",
       "    </tr>\n",
       "    <tr>\n",
       "      <th>max</th>\n",
       "      <td>1.000000</td>\n",
       "      <td>1.000000</td>\n",
       "      <td>1.000000</td>\n",
       "      <td>7.000000</td>\n",
       "      <td>310.000000</td>\n",
       "      <td>10.000000</td>\n",
       "      <td>1.000000</td>\n",
       "      <td>1.000000</td>\n",
       "    </tr>\n",
       "  </tbody>\n",
       "</table>\n",
       "</div>"
      ],
      "text/plain": [
       "           turnover  satisfaction    evaluation  projectCount  \\\n",
       "count  14999.000000  14999.000000  14999.000000  14999.000000   \n",
       "mean       0.238083      0.612834      0.716102      3.803054   \n",
       "std        0.425924      0.248631      0.171169      1.232592   \n",
       "min        0.000000      0.090000      0.360000      2.000000   \n",
       "25%        0.000000      0.440000      0.560000      3.000000   \n",
       "50%        0.000000      0.640000      0.720000      4.000000   \n",
       "75%        0.000000      0.820000      0.870000      5.000000   \n",
       "max        1.000000      1.000000      1.000000      7.000000   \n",
       "\n",
       "       averageMonthlyHours  yearsAtCompany  workAccident     promotion  \n",
       "count         14999.000000    14999.000000  14999.000000  14999.000000  \n",
       "mean            201.050337        3.498233      0.144610      0.021268  \n",
       "std              49.943099        1.460136      0.351719      0.144281  \n",
       "min              96.000000        2.000000      0.000000      0.000000  \n",
       "25%             156.000000        3.000000      0.000000      0.000000  \n",
       "50%             200.000000        3.000000      0.000000      0.000000  \n",
       "75%             245.000000        4.000000      0.000000      0.000000  \n",
       "max             310.000000       10.000000      1.000000      1.000000  "
      ]
     },
     "execution_count": 10,
     "metadata": {},
     "output_type": "execute_result"
    }
   ],
   "source": [
    "# Display the statistical overview of the employees\n",
    "df.describe()"
   ]
  },
  {
   "cell_type": "code",
   "execution_count": 11,
   "metadata": {
    "colab": {
     "base_uri": "https://localhost:8080/",
     "height": 143
    },
    "executionInfo": {
     "elapsed": 501,
     "status": "ok",
     "timestamp": 1623154849452,
     "user": {
      "displayName": "kajal rai",
      "photoUrl": "https://lh3.googleusercontent.com/a-/AOh14Gg68NzXNjnWc9NwDDDkGMl-abqbDW1VuGmYTDBjgA=s64",
      "userId": "03677648993455904671"
     },
     "user_tz": -330
    },
    "id": "DTpwB82HkEZM",
    "outputId": "1dea9b06-959d-428f-dcfd-fff093561a91"
   },
   "outputs": [
    {
     "data": {
      "text/html": [
       "<div>\n",
       "<style scoped>\n",
       "    .dataframe tbody tr th:only-of-type {\n",
       "        vertical-align: middle;\n",
       "    }\n",
       "\n",
       "    .dataframe tbody tr th {\n",
       "        vertical-align: top;\n",
       "    }\n",
       "\n",
       "    .dataframe thead th {\n",
       "        text-align: right;\n",
       "    }\n",
       "</style>\n",
       "<table border=\"1\" class=\"dataframe\">\n",
       "  <thead>\n",
       "    <tr style=\"text-align: right;\">\n",
       "      <th></th>\n",
       "      <th>satisfaction</th>\n",
       "      <th>evaluation</th>\n",
       "      <th>projectCount</th>\n",
       "      <th>averageMonthlyHours</th>\n",
       "      <th>yearsAtCompany</th>\n",
       "      <th>workAccident</th>\n",
       "      <th>promotion</th>\n",
       "    </tr>\n",
       "    <tr>\n",
       "      <th>turnover</th>\n",
       "      <th></th>\n",
       "      <th></th>\n",
       "      <th></th>\n",
       "      <th></th>\n",
       "      <th></th>\n",
       "      <th></th>\n",
       "      <th></th>\n",
       "    </tr>\n",
       "  </thead>\n",
       "  <tbody>\n",
       "    <tr>\n",
       "      <th>0</th>\n",
       "      <td>0.666810</td>\n",
       "      <td>0.715473</td>\n",
       "      <td>3.786664</td>\n",
       "      <td>199.060203</td>\n",
       "      <td>3.380032</td>\n",
       "      <td>0.175009</td>\n",
       "      <td>0.026251</td>\n",
       "    </tr>\n",
       "    <tr>\n",
       "      <th>1</th>\n",
       "      <td>0.440098</td>\n",
       "      <td>0.718113</td>\n",
       "      <td>3.855503</td>\n",
       "      <td>207.419210</td>\n",
       "      <td>3.876505</td>\n",
       "      <td>0.047326</td>\n",
       "      <td>0.005321</td>\n",
       "    </tr>\n",
       "  </tbody>\n",
       "</table>\n",
       "</div>"
      ],
      "text/plain": [
       "          satisfaction  evaluation  projectCount  averageMonthlyHours  \\\n",
       "turnover                                                                \n",
       "0             0.666810    0.715473      3.786664           199.060203   \n",
       "1             0.440098    0.718113      3.855503           207.419210   \n",
       "\n",
       "          yearsAtCompany  workAccident  promotion  \n",
       "turnover                                           \n",
       "0               3.380032      0.175009   0.026251  \n",
       "1               3.876505      0.047326   0.005321  "
      ]
     },
     "execution_count": 11,
     "metadata": {},
     "output_type": "execute_result"
    }
   ],
   "source": [
    "# Overview of summary (Turnover V.S. Non-turnover)\n",
    "turnover_Summary = df.groupby('turnover')\n",
    "turnover_Summary.mean()"
   ]
  },
  {
   "cell_type": "markdown",
   "metadata": {
    "id": "Ns-eUi5RkZgF"
   },
   "source": [
    "b. Correlation Matrix & Heatmap"
   ]
  },
  {
   "cell_type": "code",
   "execution_count": 12,
   "metadata": {
    "colab": {
     "base_uri": "https://localhost:8080/",
     "height": 651
    },
    "executionInfo": {
     "elapsed": 1648,
     "status": "ok",
     "timestamp": 1623154913223,
     "user": {
      "displayName": "kajal rai",
      "photoUrl": "https://lh3.googleusercontent.com/a-/AOh14Gg68NzXNjnWc9NwDDDkGMl-abqbDW1VuGmYTDBjgA=s64",
      "userId": "03677648993455904671"
     },
     "user_tz": -330
    },
    "id": "B_dO9s8Ikfwo",
    "outputId": "3ed5bd5a-b85d-4e58-fa90-65726beb670f"
   },
   "outputs": [
    {
     "data": {
      "text/html": [
       "<div>\n",
       "<style scoped>\n",
       "    .dataframe tbody tr th:only-of-type {\n",
       "        vertical-align: middle;\n",
       "    }\n",
       "\n",
       "    .dataframe tbody tr th {\n",
       "        vertical-align: top;\n",
       "    }\n",
       "\n",
       "    .dataframe thead th {\n",
       "        text-align: right;\n",
       "    }\n",
       "</style>\n",
       "<table border=\"1\" class=\"dataframe\">\n",
       "  <thead>\n",
       "    <tr style=\"text-align: right;\">\n",
       "      <th></th>\n",
       "      <th>turnover</th>\n",
       "      <th>satisfaction</th>\n",
       "      <th>evaluation</th>\n",
       "      <th>projectCount</th>\n",
       "      <th>averageMonthlyHours</th>\n",
       "      <th>yearsAtCompany</th>\n",
       "      <th>workAccident</th>\n",
       "      <th>promotion</th>\n",
       "    </tr>\n",
       "  </thead>\n",
       "  <tbody>\n",
       "    <tr>\n",
       "      <th>turnover</th>\n",
       "      <td>1.000000</td>\n",
       "      <td>-0.388375</td>\n",
       "      <td>0.006567</td>\n",
       "      <td>0.023787</td>\n",
       "      <td>0.071287</td>\n",
       "      <td>0.144822</td>\n",
       "      <td>-0.154622</td>\n",
       "      <td>-0.061788</td>\n",
       "    </tr>\n",
       "    <tr>\n",
       "      <th>satisfaction</th>\n",
       "      <td>-0.388375</td>\n",
       "      <td>1.000000</td>\n",
       "      <td>0.105021</td>\n",
       "      <td>-0.142970</td>\n",
       "      <td>-0.020048</td>\n",
       "      <td>-0.100866</td>\n",
       "      <td>0.058697</td>\n",
       "      <td>0.025605</td>\n",
       "    </tr>\n",
       "    <tr>\n",
       "      <th>evaluation</th>\n",
       "      <td>0.006567</td>\n",
       "      <td>0.105021</td>\n",
       "      <td>1.000000</td>\n",
       "      <td>0.349333</td>\n",
       "      <td>0.339742</td>\n",
       "      <td>0.131591</td>\n",
       "      <td>-0.007104</td>\n",
       "      <td>-0.008684</td>\n",
       "    </tr>\n",
       "    <tr>\n",
       "      <th>projectCount</th>\n",
       "      <td>0.023787</td>\n",
       "      <td>-0.142970</td>\n",
       "      <td>0.349333</td>\n",
       "      <td>1.000000</td>\n",
       "      <td>0.417211</td>\n",
       "      <td>0.196786</td>\n",
       "      <td>-0.004741</td>\n",
       "      <td>-0.006064</td>\n",
       "    </tr>\n",
       "    <tr>\n",
       "      <th>averageMonthlyHours</th>\n",
       "      <td>0.071287</td>\n",
       "      <td>-0.020048</td>\n",
       "      <td>0.339742</td>\n",
       "      <td>0.417211</td>\n",
       "      <td>1.000000</td>\n",
       "      <td>0.127755</td>\n",
       "      <td>-0.010143</td>\n",
       "      <td>-0.003544</td>\n",
       "    </tr>\n",
       "    <tr>\n",
       "      <th>yearsAtCompany</th>\n",
       "      <td>0.144822</td>\n",
       "      <td>-0.100866</td>\n",
       "      <td>0.131591</td>\n",
       "      <td>0.196786</td>\n",
       "      <td>0.127755</td>\n",
       "      <td>1.000000</td>\n",
       "      <td>0.002120</td>\n",
       "      <td>0.067433</td>\n",
       "    </tr>\n",
       "    <tr>\n",
       "      <th>workAccident</th>\n",
       "      <td>-0.154622</td>\n",
       "      <td>0.058697</td>\n",
       "      <td>-0.007104</td>\n",
       "      <td>-0.004741</td>\n",
       "      <td>-0.010143</td>\n",
       "      <td>0.002120</td>\n",
       "      <td>1.000000</td>\n",
       "      <td>0.039245</td>\n",
       "    </tr>\n",
       "    <tr>\n",
       "      <th>promotion</th>\n",
       "      <td>-0.061788</td>\n",
       "      <td>0.025605</td>\n",
       "      <td>-0.008684</td>\n",
       "      <td>-0.006064</td>\n",
       "      <td>-0.003544</td>\n",
       "      <td>0.067433</td>\n",
       "      <td>0.039245</td>\n",
       "      <td>1.000000</td>\n",
       "    </tr>\n",
       "  </tbody>\n",
       "</table>\n",
       "</div>"
      ],
      "text/plain": [
       "                     turnover  satisfaction  evaluation  projectCount  \\\n",
       "turnover             1.000000     -0.388375    0.006567      0.023787   \n",
       "satisfaction        -0.388375      1.000000    0.105021     -0.142970   \n",
       "evaluation           0.006567      0.105021    1.000000      0.349333   \n",
       "projectCount         0.023787     -0.142970    0.349333      1.000000   \n",
       "averageMonthlyHours  0.071287     -0.020048    0.339742      0.417211   \n",
       "yearsAtCompany       0.144822     -0.100866    0.131591      0.196786   \n",
       "workAccident        -0.154622      0.058697   -0.007104     -0.004741   \n",
       "promotion           -0.061788      0.025605   -0.008684     -0.006064   \n",
       "\n",
       "                     averageMonthlyHours  yearsAtCompany  workAccident  \\\n",
       "turnover                        0.071287        0.144822     -0.154622   \n",
       "satisfaction                   -0.020048       -0.100866      0.058697   \n",
       "evaluation                      0.339742        0.131591     -0.007104   \n",
       "projectCount                    0.417211        0.196786     -0.004741   \n",
       "averageMonthlyHours             1.000000        0.127755     -0.010143   \n",
       "yearsAtCompany                  0.127755        1.000000      0.002120   \n",
       "workAccident                   -0.010143        0.002120      1.000000   \n",
       "promotion                      -0.003544        0.067433      0.039245   \n",
       "\n",
       "                     promotion  \n",
       "turnover             -0.061788  \n",
       "satisfaction          0.025605  \n",
       "evaluation           -0.008684  \n",
       "projectCount         -0.006064  \n",
       "averageMonthlyHours  -0.003544  \n",
       "yearsAtCompany        0.067433  \n",
       "workAccident          0.039245  \n",
       "promotion             1.000000  "
      ]
     },
     "execution_count": 12,
     "metadata": {},
     "output_type": "execute_result"
    },
    {
     "data": {
      "image/png": "[encoded data removed]",
      "text/plain": [
       "<Figure size 432x288 with 2 Axes>"
      ]
     },
     "metadata": {
      "needs_background": "light"
     },
     "output_type": "display_data"
    }
   ],
   "source": [
    "#Correlation Matrix\n",
    "corr = df.corr()\n",
    "corr = (corr)\n",
    "sns.heatmap(corr, \n",
    "            xticklabels=corr.columns.values,\n",
    "            yticklabels=corr.columns.values)\n",
    "\n",
    "corr"
   ]
  },
  {
   "cell_type": "markdown",
   "metadata": {
    "id": "q9Ldz94RlXfM"
   },
   "source": [
    "c. Distribution Plots (Satisfaction - Evaluation - AverageMonthlyHours)"
   ]
  },
  {
   "cell_type": "code",
   "execution_count": 13,
   "metadata": {
    "colab": {
     "base_uri": "https://localhost:8080/",
     "height": 478
    },
    "executionInfo": {
     "elapsed": 1834,
     "status": "ok",
     "timestamp": 1623155172257,
     "user": {
      "displayName": "kajal rai",
      "photoUrl": "https://lh3.googleusercontent.com/a-/AOh14Gg68NzXNjnWc9NwDDDkGMl-abqbDW1VuGmYTDBjgA=s64",
      "userId": "03677648993455904671"
     },
     "user_tz": -330
    },
    "id": "szDhJ92ylHM9",
    "outputId": "109907c0-bb7c-452c-d9bb-9674aa94ea73"
   },
   "outputs": [
    {
     "name": "stderr",
     "output_type": "stream",
     "text": [
      "c:\\users\\prateekpaul\\appdata\\local\\programs\\python\\python39\\lib\\site-packages\\seaborn\\distributions.py:2557: FutureWarning: `distplot` is a deprecated function and will be removed in a future version. Please adapt your code to use either `displot` (a figure-level function with similar flexibility) or `histplot` (an axes-level function for histograms).\n",
      "  warnings.warn(msg, FutureWarning)\n"
     ]
    },
    {
     "data": {
      "text/plain": [
       "Text(0, 0.5, 'Employee Count')"
      ]
     },
     "execution_count": 13,
     "metadata": {},
     "output_type": "execute_result"
    },
    {
     "data": {
      "image/png": "[encoded data removed]",
      "text/plain": [
       "<Figure size 1080x432 with 3 Axes>"
      ]
     },
     "metadata": {
      "needs_background": "light"
     },
     "output_type": "display_data"
    }
   ],
   "source": [
    "# Set up the matplotlib figure\n",
    "f, axes = plt.subplots(ncols=3, figsize=(15, 6))\n",
    "\n",
    "# Graph Employee Satisfaction\n",
    "sns.distplot(df.satisfaction, kde=False, color=\"g\", ax=axes[0]).set_title('Employee Satisfaction Distribution')\n",
    "axes[0].set_ylabel('Employee Count')\n",
    "\n",
    "# Graph Employee Evaluation\n",
    "sns.distplot(df.evaluation, kde=False, color=\"r\", ax=axes[1]).set_title('Employee Evaluation Distribution')\n",
    "axes[1].set_ylabel('Employee Count')\n",
    "\n",
    "# Graph Employee Average Monthly Hours\n",
    "sns.distplot(df.averageMonthlyHours, kde=False, color=\"b\", ax=axes[2]).set_title('Employee Average Monthly Hours Distribution')\n",
    "axes[2].set_ylabel('Employee Count')"
   ]
  },
  {
   "cell_type": "markdown",
   "metadata": {
    "id": "7Z-KK1E8lvtt"
   },
   "source": [
    "d. Salary V.S. Turnover"
   ]
  },
  {
   "cell_type": "code",
   "execution_count": 14,
   "metadata": {
    "colab": {
     "base_uri": "https://localhost:8080/",
     "height": 295
    },
    "executionInfo": {
     "elapsed": 566,
     "status": "ok",
     "timestamp": 1623155441881,
     "user": {
      "displayName": "kajal rai",
      "photoUrl": "https://lh3.googleusercontent.com/a-/AOh14Gg68NzXNjnWc9NwDDDkGMl-abqbDW1VuGmYTDBjgA=s64",
      "userId": "03677648993455904671"
     },
     "user_tz": -330
    },
    "id": "e5NaUjL5loZo",
    "outputId": "aee59dc2-fc2b-4c4f-d386-65642f98abaa"
   },
   "outputs": [
    {
     "data": {
      "image/png": "[encoded data removed]",
      "text/plain": [
       "<Figure size 1080x288 with 1 Axes>"
      ]
     },
     "metadata": {
      "needs_background": "light"
     },
     "output_type": "display_data"
    }
   ],
   "source": [
    "f, ax = plt.subplots(figsize=(15, 4))\n",
    "sns.countplot(y=\"salary\", hue='turnover', data=df).set_title('Employee Salary Turnover Distribution');"
   ]
  },
  {
   "cell_type": "markdown",
   "metadata": {
    "id": "ZjpuN2DvmE6B"
   },
   "source": [
    "e. Turnover V.S. ProjectCount"
   ]
  },
  {
   "cell_type": "code",
   "execution_count": 15,
   "metadata": {
    "colab": {
     "base_uri": "https://localhost:8080/",
     "height": 297
    },
    "executionInfo": {
     "elapsed": 598,
     "status": "ok",
     "timestamp": 1623155704876,
     "user": {
      "displayName": "kajal rai",
      "photoUrl": "https://lh3.googleusercontent.com/a-/AOh14Gg68NzXNjnWc9NwDDDkGMl-abqbDW1VuGmYTDBjgA=s64",
      "userId": "03677648993455904671"
     },
     "user_tz": -330
    },
    "id": "LyG7jNJ-nhDk",
    "outputId": "49b47002-4de0-4437-af53-bdaa5568f618"
   },
   "outputs": [
    {
     "data": {
      "text/plain": [
       "[Text(0, 0.5, 'Percent')]"
      ]
     },
     "execution_count": 15,
     "metadata": {},
     "output_type": "execute_result"
    },
    {
     "data": {
      "image/png": "[encoded data removed]",
      "text/plain": [
       "<Figure size 432x288 with 1 Axes>"
      ]
     },
     "metadata": {
      "needs_background": "light"
     },
     "output_type": "display_data"
    }
   ],
   "source": [
    "ax = sns.barplot(x=\"projectCount\", y=\"projectCount\", hue=\"turnover\", data=df, estimator=lambda x: len(x) / len(df) * 100)\n",
    "ax.set(ylabel=\"Percent\")"
   ]
  },
  {
   "cell_type": "markdown",
   "metadata": {
    "id": "glxs1IDTnqDh"
   },
   "source": [
    "f. Turnover V.S. Evaluation"
   ]
  },
  {
   "cell_type": "code",
   "execution_count": 16,
   "metadata": {
    "colab": {
     "base_uri": "https://localhost:8080/",
     "height": 313
    },
    "executionInfo": {
     "elapsed": 770,
     "status": "ok",
     "timestamp": 1623155773458,
     "user": {
      "displayName": "kajal rai",
      "photoUrl": "https://lh3.googleusercontent.com/a-/AOh14Gg68NzXNjnWc9NwDDDkGMl-abqbDW1VuGmYTDBjgA=s64",
      "userId": "03677648993455904671"
     },
     "user_tz": -330
    },
    "id": "vnLx1JJunxuF",
    "outputId": "6fe81e64-35d0-4ec9-ea67-d45ab83f2f78"
   },
   "outputs": [
    {
     "data": {
      "text/plain": [
       "Text(0.5, 1.0, 'Employee Evaluation Distribution - Turnover V.S. No Turnover')"
      ]
     },
     "execution_count": 16,
     "metadata": {},
     "output_type": "execute_result"
    },
    {
     "data": {
      "image/png": "[encoded data removed]",
      "text/plain": [
       "<Figure size 1080x288 with 1 Axes>"
      ]
     },
     "metadata": {
      "needs_background": "light"
     },
     "output_type": "display_data"
    }
   ],
   "source": [
    "# Kernel Density Plot\n",
    "fig = plt.figure(figsize=(15,4),)\n",
    "ax=sns.kdeplot(df.loc[(df['turnover'] == 0),'evaluation'] , color='b',shade=True,label='no turnover')\n",
    "ax=sns.kdeplot(df.loc[(df['turnover'] == 1),'evaluation'] , color='r',shade=True, label='turnover')\n",
    "ax.set(xlabel='Employee Evaluation', ylabel='Frequency')\n",
    "plt.title('Employee Evaluation Distribution - Turnover V.S. No Turnover')"
   ]
  },
  {
   "cell_type": "markdown",
   "metadata": {
    "id": "ZXaomJFqoBM1"
   },
   "source": [
    "g.Turnover V.S. AverageMonthlyHours"
   ]
  },
  {
   "cell_type": "code",
   "execution_count": 17,
   "metadata": {
    "colab": {
     "base_uri": "https://localhost:8080/",
     "height": 313
    },
    "executionInfo": {
     "elapsed": 748,
     "status": "ok",
     "timestamp": 1623155843263,
     "user": {
      "displayName": "kajal rai",
      "photoUrl": "https://lh3.googleusercontent.com/a-/AOh14Gg68NzXNjnWc9NwDDDkGMl-abqbDW1VuGmYTDBjgA=s64",
      "userId": "03677648993455904671"
     },
     "user_tz": -330
    },
    "id": "pYv0SMLOoD8H",
    "outputId": "c105c572-c5bf-4f7b-c4b8-52eb608077ff"
   },
   "outputs": [
    {
     "data": {
      "text/plain": [
       "Text(0.5, 1.0, 'Employee AverageMonthly Hours Distribution - Turnover V.S. No Turnover')"
      ]
     },
     "execution_count": 17,
     "metadata": {},
     "output_type": "execute_result"
    },
    {
     "data": {
      "image/png": "[encoded data removed]",
      "text/plain": [
       "<Figure size 1080x288 with 1 Axes>"
      ]
     },
     "metadata": {
      "needs_background": "light"
     },
     "output_type": "display_data"
    }
   ],
   "source": [
    "#KDEPlot: Kernel Density Estimate Plot\n",
    "fig = plt.figure(figsize=(15,4))\n",
    "ax=sns.kdeplot(df.loc[(df['turnover'] == 0),'averageMonthlyHours'] , color='b',shade=True, label='no turnover')\n",
    "ax=sns.kdeplot(df.loc[(df['turnover'] == 1),'averageMonthlyHours'] , color='r',shade=True, label='turnover')\n",
    "ax.set(xlabel='Employee Average Monthly Hours', ylabel='Frequency')\n",
    "plt.title('Employee AverageMonthly Hours Distribution - Turnover V.S. No Turnover')"
   ]
  },
  {
   "cell_type": "markdown",
   "metadata": {
    "id": "EcLGzVvaoMhV"
   },
   "source": [
    "h.ProjectCount VS AverageMonthlyHours"
   ]
  },
  {
   "cell_type": "code",
   "execution_count": 18,
   "metadata": {
    "colab": {
     "base_uri": "https://localhost:8080/",
     "height": 297
    },
    "executionInfo": {
     "elapsed": 542,
     "status": "ok",
     "timestamp": 1623155927257,
     "user": {
      "displayName": "kajal rai",
      "photoUrl": "https://lh3.googleusercontent.com/a-/AOh14Gg68NzXNjnWc9NwDDDkGMl-abqbDW1VuGmYTDBjgA=s64",
      "userId": "03677648993455904671"
     },
     "user_tz": -330
    },
    "id": "1SH2wqg8oWk4",
    "outputId": "c6304dba-10fa-4c2c-f8a8-01f51683e051"
   },
   "outputs": [
    {
     "data": {
      "text/plain": [
       "<AxesSubplot:xlabel='projectCount', ylabel='averageMonthlyHours'>"
      ]
     },
     "execution_count": 18,
     "metadata": {},
     "output_type": "execute_result"
    },
    {
     "data": {
      "image/png": "[encoded data removed]",
      "text/plain": [
       "<Figure size 432x288 with 1 Axes>"
      ]
     },
     "metadata": {
      "needs_background": "light"
     },
     "output_type": "display_data"
    }
   ],
   "source": [
    "#ProjectCount VS AverageMonthlyHours [BOXPLOT]\n",
    "#Looks like the average employees who stayed worked about 200hours/month. Those that had a turnover worked about 250hours/month and 150hours/month\n",
    "\n",
    "import seaborn as sns\n",
    "sns.boxplot(x=\"projectCount\", y=\"averageMonthlyHours\", hue=\"turnover\", data=df)"
   ]
  },
  {
   "cell_type": "markdown",
   "metadata": {
    "id": "uqDf9uZFog-T"
   },
   "source": [
    "i.Satisfaction VS Evaluation"
   ]
  },
  {
   "cell_type": "code",
   "execution_count": 19,
   "metadata": {
    "colab": {
     "base_uri": "https://localhost:8080/",
     "height": 401
    },
    "executionInfo": {
     "elapsed": 1887,
     "status": "ok",
     "timestamp": 1623156002663,
     "user": {
      "displayName": "kajal rai",
      "photoUrl": "https://lh3.googleusercontent.com/a-/AOh14Gg68NzXNjnWc9NwDDDkGMl-abqbDW1VuGmYTDBjgA=s64",
      "userId": "03677648993455904671"
     },
     "user_tz": -330
    },
    "id": "T_YeUXduopk2",
    "outputId": "1a836b11-56a8-4268-95ae-fa9ae3074a37"
   },
   "outputs": [
    {
     "data": {
      "text/plain": [
       "<seaborn.axisgrid.FacetGrid at 0x2b6b575fa00>"
      ]
     },
     "execution_count": 19,
     "metadata": {},
     "output_type": "execute_result"
    },
    {
     "data": {
      "image/png": "[encoded data removed]",
      "text/plain": [
       "<Figure size 410.75x360 with 1 Axes>"
      ]
     },
     "metadata": {
      "needs_background": "light"
     },
     "output_type": "display_data"
    }
   ],
   "source": [
    "sns.lmplot(x='satisfaction', y='evaluation', data=df,\n",
    "           fit_reg=False, # No regression line\n",
    "           hue='turnover')   # Color by evolution stage"
   ]
  },
  {
   "cell_type": "markdown",
   "metadata": {
    "id": "Iqi-jymupOHX"
   },
   "source": [
    "j. K-Means Clustering of Employee Turnover"
   ]
  },
  {
   "cell_type": "code",
   "execution_count": 20,
   "metadata": {
    "colab": {
     "base_uri": "https://localhost:8080/",
     "height": 404
    },
    "executionInfo": {
     "elapsed": 1946,
     "status": "ok",
     "timestamp": 1623156194393,
     "user": {
      "displayName": "kajal rai",
      "photoUrl": "https://lh3.googleusercontent.com/a-/AOh14Gg68NzXNjnWc9NwDDDkGMl-abqbDW1VuGmYTDBjgA=s64",
      "userId": "03677648993455904671"
     },
     "user_tz": -330
    },
    "id": "jRHjIaMEpZPu",
    "outputId": "f268a584-93a5-4931-a420-065417febf75"
   },
   "outputs": [
    {
     "data": {
      "image/png": "[encoded data removed]",
      "text/plain": [
       "<Figure size 720x432 with 1 Axes>"
      ]
     },
     "metadata": {
      "needs_background": "light"
     },
     "output_type": "display_data"
    }
   ],
   "source": [
    "# Import KMeans Model\n",
    "from sklearn.cluster import KMeans\n",
    "\n",
    "# Graph and create 3 clusters of Employee Turnover\n",
    "kmeans = KMeans(n_clusters=3,random_state=2)\n",
    "kmeans.fit(df[df.turnover==1][[\"satisfaction\",\"evaluation\"]])\n",
    "\n",
    "kmeans_colors = ['green' if c == 0 else 'blue' if c == 2 else 'red' for c in kmeans.labels_]\n",
    "\n",
    "fig = plt.figure(figsize=(10, 6))\n",
    "plt.scatter(x=\"satisfaction\",y=\"evaluation\", data=df[df.turnover==1],\n",
    "            alpha=0.25,color = kmeans_colors)\n",
    "plt.xlabel(\"Satisfaction\")\n",
    "plt.ylabel(\"Evaluation\")\n",
    "plt.scatter(x=kmeans.cluster_centers_[:,0],y=kmeans.cluster_centers_[:,1],color=\"black\",marker=\"X\",s=100)\n",
    "plt.title(\"Clusters of Employee Turnover\")\n",
    "plt.show()"
   ]
  },
  {
   "cell_type": "markdown",
   "metadata": {
    "id": "34p0gCO8rE8Q"
   },
   "source": [
    "**Modeling the Data: Logistic Regression Analysis**\n",
    "\n",
    "---\n",
    "\n"
   ]
  },
  {
   "cell_type": "code",
   "execution_count": 21,
   "metadata": {
    "colab": {
     "base_uri": "https://localhost:8080/",
     "height": 205
    },
    "executionInfo": {
     "elapsed": 490,
     "status": "ok",
     "timestamp": 1623157482958,
     "user": {
      "displayName": "kajal rai",
      "photoUrl": "https://lh3.googleusercontent.com/a-/AOh14Gg68NzXNjnWc9NwDDDkGMl-abqbDW1VuGmYTDBjgA=s64",
      "userId": "03677648993455904671"
     },
     "user_tz": -330
    },
    "id": "eek3bME4t2WG",
    "outputId": "bc9abd94-9b4e-4c81-ab62-66d39001b083"
   },
   "outputs": [
    {
     "data": {
      "text/html": [
       "<div>\n",
       "<style scoped>\n",
       "    .dataframe tbody tr th:only-of-type {\n",
       "        vertical-align: middle;\n",
       "    }\n",
       "\n",
       "    .dataframe tbody tr th {\n",
       "        vertical-align: top;\n",
       "    }\n",
       "\n",
       "    .dataframe thead th {\n",
       "        text-align: right;\n",
       "    }\n",
       "</style>\n",
       "<table border=\"1\" class=\"dataframe\">\n",
       "  <thead>\n",
       "    <tr style=\"text-align: right;\">\n",
       "      <th></th>\n",
       "      <th>satisfaction</th>\n",
       "      <th>evaluation</th>\n",
       "      <th>yearsAtCompany</th>\n",
       "      <th>int</th>\n",
       "    </tr>\n",
       "  </thead>\n",
       "  <tbody>\n",
       "    <tr>\n",
       "      <th>9003</th>\n",
       "      <td>0.59</td>\n",
       "      <td>1.00</td>\n",
       "      <td>3</td>\n",
       "      <td>1</td>\n",
       "    </tr>\n",
       "    <tr>\n",
       "      <th>5697</th>\n",
       "      <td>0.81</td>\n",
       "      <td>0.98</td>\n",
       "      <td>2</td>\n",
       "      <td>1</td>\n",
       "    </tr>\n",
       "    <tr>\n",
       "      <th>10691</th>\n",
       "      <td>1.00</td>\n",
       "      <td>0.93</td>\n",
       "      <td>2</td>\n",
       "      <td>1</td>\n",
       "    </tr>\n",
       "    <tr>\n",
       "      <th>1884</th>\n",
       "      <td>0.87</td>\n",
       "      <td>0.91</td>\n",
       "      <td>5</td>\n",
       "      <td>1</td>\n",
       "    </tr>\n",
       "    <tr>\n",
       "      <th>13572</th>\n",
       "      <td>0.87</td>\n",
       "      <td>0.48</td>\n",
       "      <td>3</td>\n",
       "      <td>1</td>\n",
       "    </tr>\n",
       "  </tbody>\n",
       "</table>\n",
       "</div>"
      ],
      "text/plain": [
       "       satisfaction  evaluation  yearsAtCompany  int\n",
       "9003           0.59        1.00               3    1\n",
       "5697           0.81        0.98               2    1\n",
       "10691          1.00        0.93               2    1\n",
       "1884           0.87        0.91               5    1\n",
       "13572          0.87        0.48               3    1"
      ]
     },
     "execution_count": 21,
     "metadata": {},
     "output_type": "execute_result"
    }
   ],
   "source": [
    "# Import the neccessary modules for data manipulation and visual representation\n",
    "import pandas as pd\n",
    "import numpy as np\n",
    "import matplotlib.pyplot as plt\n",
    "import matplotlib as matplot\n",
    "import seaborn as sns\n",
    "%matplotlib inline\n",
    "#Read the analytics csv file and store our dataset into a dataframe called \"df\"\n",
    "from sklearn.linear_model import LogisticRegression\n",
    "from sklearn.preprocessing import LabelEncoder\n",
    "from sklearn.model_selection import train_test_split\n",
    "from sklearn.metrics import accuracy_score, classification_report, precision_score, recall_score, confusion_matrix, precision_recall_curve\n",
    "from sklearn.preprocessing import RobustScaler\n",
    "df = pd.read_csv('HR_comma_sep.csv')\n",
    "\n",
    "# Renaming certain columns for better readability\n",
    "df = df.rename(columns={'satisfaction_level': 'satisfaction', \n",
    "                        'last_evaluation': 'evaluation',\n",
    "                        'number_project': 'projectCount',\n",
    "                        'average_montly_hours': 'averageMonthlyHours',\n",
    "                        'time_spend_company': 'yearsAtCompany',\n",
    "                        'Work_accident': 'workAccident',\n",
    "                        'promotion_last_5years': 'promotion',\n",
    "                        'sales' : 'department',\n",
    "                        'left' : 'turnover'\n",
    "                        })\n",
    "\n",
    "\n",
    "\n",
    "# Move the reponse variable \"turnover\" to the front of the table\n",
    "front = df['turnover']\n",
    "df.drop(labels=['turnover'], axis=1,inplace = True)\n",
    "df.insert(0, 'turnover', front)\n",
    "\n",
    "# Create an intercept term for the logistic regression equation\n",
    "df['int'] = 1\n",
    "indep_var = ['satisfaction', 'evaluation', 'yearsAtCompany', 'int', 'turnover']\n",
    "df = df[indep_var]\n",
    "\n",
    "# Create train and test splits\n",
    "target_name = 'turnover'\n",
    "X = df.drop('turnover', axis=1)\n",
    "\n",
    "y=df[target_name]\n",
    "X_train, X_test, y_train, y_test = train_test_split(X,y,test_size=0.15, random_state=123, stratify=y)\n",
    "\n",
    "X_train.head()\n",
    "#"
   ]
  },
  {
   "cell_type": "markdown",
   "metadata": {
    "id": "gVaXEuajuiMv"
   },
   "source": [
    "Using Logistic Regression Coefficients"
   ]
  },
  {
   "cell_type": "code",
   "execution_count": null,
   "metadata": {},
   "outputs": [],
   "source": [
    "pip install statsmodels "
   ]
  },
  {
   "cell_type": "code",
   "execution_count": 25,
   "metadata": {
    "colab": {
     "base_uri": "https://localhost:8080/",
     "height": 0
    },
    "executionInfo": {
     "elapsed": 1325,
     "status": "ok",
     "timestamp": 1623157568100,
     "user": {
      "displayName": "kajal rai",
      "photoUrl": "https://lh3.googleusercontent.com/a-/AOh14Gg68NzXNjnWc9NwDDDkGMl-abqbDW1VuGmYTDBjgA=s64",
      "userId": "03677648993455904671"
     },
     "user_tz": -330
    },
    "id": "8NEXLCd2uo0M",
    "outputId": "081a6f34-5a21-4d03-ddfd-961de56b084f"
   },
   "outputs": [
    {
     "name": "stdout",
     "output_type": "stream",
     "text": [
      "Optimization terminated successfully.\n",
      "         Current function value: 0.467233\n",
      "         Iterations 6\n"
     ]
    },
    {
     "data": {
      "text/plain": [
       "satisfaction     -3.769022\n",
       "evaluation        0.207596\n",
       "yearsAtCompany    0.170145\n",
       "int               0.181896\n",
       "dtype: float64"
      ]
     },
     "execution_count": 25,
     "metadata": {},
     "output_type": "execute_result"
    }
   ],
   "source": [
    "import statsmodels.api as sm\n",
    "iv = ['satisfaction','evaluation','yearsAtCompany', 'int']\n",
    "logReg = sm.Logit(y_train, X_train[iv])\n",
    "answer = logReg.fit()\n",
    "\n",
    "answer.summary\n",
    "answer.params"
   ]
  },
  {
   "cell_type": "code",
   "execution_count": 26,
   "metadata": {
    "executionInfo": {
     "elapsed": 1516,
     "status": "ok",
     "timestamp": 1623158134069,
     "user": {
      "displayName": "kajal rai",
      "photoUrl": "https://lh3.googleusercontent.com/a-/AOh14Gg68NzXNjnWc9NwDDDkGMl-abqbDW1VuGmYTDBjgA=s64",
      "userId": "03677648993455904671"
     },
     "user_tz": -330
    },
    "id": "6CTVtWw3wgHC"
   },
   "outputs": [],
   "source": [
    "from sklearn.linear_model import LogisticRegression\n",
    "from sklearn.preprocessing import LabelEncoder\n",
    "from sklearn.model_selection import train_test_split\n",
    "from sklearn.metrics import accuracy_score, classification_report, precision_score, recall_score, confusion_matrix, precision_recall_curve\n",
    "from sklearn.preprocessing import RobustScaler"
   ]
  },
  {
   "cell_type": "code",
   "execution_count": 27,
   "metadata": {
    "executionInfo": {
     "elapsed": 8,
     "status": "ok",
     "timestamp": 1623158142432,
     "user": {
      "displayName": "kajal rai",
      "photoUrl": "https://lh3.googleusercontent.com/a-/AOh14Gg68NzXNjnWc9NwDDDkGMl-abqbDW1VuGmYTDBjgA=s64",
      "userId": "03677648993455904671"
     },
     "user_tz": -330
    },
    "id": "8M0aknrIwyEO"
   },
   "outputs": [],
   "source": [
    "# Create base rate model\n",
    "def base_rate_model(X) :\n",
    "    y = np.zeros(X.shape[0])\n",
    "    return y"
   ]
  },
  {
   "cell_type": "code",
   "execution_count": 28,
   "metadata": {
    "executionInfo": {
     "elapsed": 436,
     "status": "ok",
     "timestamp": 1623158184975,
     "user": {
      "displayName": "kajal rai",
      "photoUrl": "https://lh3.googleusercontent.com/a-/AOh14Gg68NzXNjnWc9NwDDDkGMl-abqbDW1VuGmYTDBjgA=s64",
      "userId": "03677648993455904671"
     },
     "user_tz": -330
    },
    "id": "I5CvV_n1w30J"
   },
   "outputs": [],
   "source": [
    "# Create train and test splits\n",
    "target_name = 'turnover'\n",
    "X = df.drop('turnover', axis=1)\n",
    "#robust_scaler = RobustScaler()\n",
    "#X = robust_scaler.fit_transform(X)\n",
    "y=df[target_name]\n",
    "X_train, X_test, y_train, y_test = train_test_split(X,y,test_size=0.15, random_state=123, stratify=y)"
   ]
  },
  {
   "cell_type": "code",
   "execution_count": 29,
   "metadata": {
    "colab": {
     "base_uri": "https://localhost:8080/",
     "height": 0
    },
    "executionInfo": {
     "elapsed": 16,
     "status": "ok",
     "timestamp": 1623158186192,
     "user": {
      "displayName": "kajal rai",
      "photoUrl": "https://lh3.googleusercontent.com/a-/AOh14Gg68NzXNjnWc9NwDDDkGMl-abqbDW1VuGmYTDBjgA=s64",
      "userId": "03677648993455904671"
     },
     "user_tz": -330
    },
    "id": "iQrlfvbXxACm",
    "outputId": "3c14b030-bfed-4f47-e42a-eb34d0001170"
   },
   "outputs": [
    {
     "name": "stdout",
     "output_type": "stream",
     "text": [
      "Base rate accuracy is 0.76\n"
     ]
    }
   ],
   "source": [
    "# Check accuracy of base rate model\n",
    "y_base_rate = base_rate_model(X_test)\n",
    "from sklearn.metrics import accuracy_score\n",
    "print (\"Base rate accuracy is %2.2f\" % accuracy_score(y_test, y_base_rate))"
   ]
  },
  {
   "cell_type": "code",
   "execution_count": 30,
   "metadata": {
    "colab": {
     "base_uri": "https://localhost:8080/",
     "height": 0
    },
    "executionInfo": {
     "elapsed": 466,
     "status": "ok",
     "timestamp": 1623158221821,
     "user": {
      "displayName": "kajal rai",
      "photoUrl": "https://lh3.googleusercontent.com/a-/AOh14Gg68NzXNjnWc9NwDDDkGMl-abqbDW1VuGmYTDBjgA=s64",
      "userId": "03677648993455904671"
     },
     "user_tz": -330
    },
    "id": "3rlDLtpkxHy0",
    "outputId": "ffc26c8e-9519-4b95-bbbb-3f997b0ebebe"
   },
   "outputs": [
    {
     "name": "stdout",
     "output_type": "stream",
     "text": [
      "Logistic accuracy is 0.77\n"
     ]
    }
   ],
   "source": [
    "# Check accuracy of Logistic Model\n",
    "from sklearn.linear_model import LogisticRegression\n",
    "model = LogisticRegression(penalty='l2', C=1)\n",
    "\n",
    "model.fit(X_train, y_train)\n",
    "print (\"Logistic accuracy is %2.2f\" % accuracy_score(y_test, model.predict(X_test)))"
   ]
  },
  {
   "cell_type": "code",
   "execution_count": null,
   "metadata": {
    "colab": {
     "base_uri": "https://localhost:8080/",
     "height": 0
    },
    "executionInfo": {
     "elapsed": 862,
     "status": "ok",
     "timestamp": 1623158250839,
     "user": {
      "displayName": "kajal rai",
      "photoUrl": "https://lh3.googleusercontent.com/a-/AOh14Gg68NzXNjnWc9NwDDDkGMl-abqbDW1VuGmYTDBjgA=s64",
      "userId": "03677648993455904671"
     },
     "user_tz": -330
    },
    "id": "W529EYVOxPop",
    "outputId": "b38f1fcc-204b-45d9-af29-670bca4c1edb"
   },
   "outputs": [],
   "source": [
    "# Using 10 fold Cross-Validation to train our Logistic Regression Model\n",
    "from sklearn import model_selection\n",
    "from sklearn.linear_model import LogisticRegression\n",
    "kfold = model_selection.KFold(n_splits=10, random_state=7)\n",
    "modelCV = LogisticRegression(class_weight = \"balanced\")\n",
    "scoring = 'roc_auc'\n",
    "results = model_selection.cross_val_score(modelCV, X_train, y_train, cv=kfold, scoring=scoring)\n",
    "print(\"AUC: %.3f (%.3f)\" % (results.mean(), results.std()))"
   ]
  },
  {
   "cell_type": "code",
   "execution_count": null,
   "metadata": {},
   "outputs": [],
   "source": []
  },
  {
   "cell_type": "code",
   "execution_count": null,
   "metadata": {},
   "outputs": [],
   "source": []
  },
  {
   "cell_type": "code",
   "execution_count": null,
   "metadata": {},
   "outputs": [],
   "source": []
  }
 ],
 "metadata": {
  "colab": {
   "authorship_tag": "ABX9TyPEQ20VIXeuwqO7bR4uYyQW",
   "name": "Task 9 (GO_STP_4).ipynb",
   "provenance": []
  },
  "kernelspec": {
   "display_name": "Python 3",
   "language": "python",
   "name": "python3"
  },
  "language_info": {
   "codemirror_mode": {
    "name": "ipython",
    "version": 3
   },
   "file_extension": ".py",
   "mimetype": "text/x-python",
   "name": "python",
   "nbconvert_exporter": "python",
   "pygments_lexer": "ipython3",
   "version": "3.9.2"
  }
 },
 "nbformat": 4,
 "nbformat_minor": 1
}
