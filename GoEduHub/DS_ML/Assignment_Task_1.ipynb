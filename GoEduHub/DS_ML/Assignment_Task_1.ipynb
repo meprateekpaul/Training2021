{
 "cells": [
  {
   "cell_type": "markdown",
   "id": "a6633ea6",
   "metadata": {},
   "source": [
    "# Assignment/Task 1"
   ]
  },
  {
   "cell_type": "markdown",
   "id": "73771f62",
   "metadata": {},
   "source": [
    "## Registration Number : GO_STP_2\n",
    "## Prateek Paul\n",
    "\n",
    "### Source : https://www.goeduhub.com/11461/exercise-practice-solutions-beginners-training-learning\n",
    "\n",
    "\n",
    "### 1. We are having 3 list like this\n",
    "\n",
    "Colors = [“Yellow”,”Green”,”White”,”Black”]\n",
    "\n",
    "Fruits=[“Apple”,”Papaya”,”Mango”,”Orange”]\n",
    "\n",
    "Animals=[“Tiger”,”Lion”,”Deer”,”Zebra”]\n",
    "\n",
    "\n",
    "#### i. Write a program that asks user to enter a Color/Fruit/Animal name and it should tell which category belongs to , like its is a fruit or color or Animal."
   ]
  },
  {
   "cell_type": "code",
   "execution_count": 1,
   "id": "c527dffe",
   "metadata": {},
   "outputs": [
    {
     "name": "stdout",
     "output_type": "stream",
     "text": [
      "Enter the Name : Deer\n",
      "Animals\n"
     ]
    }
   ],
   "source": [
    "Colors = ['Yellow','Green','White','Black']\n",
    "Fruits=['Apple','Papaya','Mango','Orange']\n",
    "Animals=['Tiger','Lion','Deer','Zebra']\n",
    "\n",
    "obj = input('Enter the Name : ')\n",
    "\n",
    "if obj in Colors:\n",
    "    category = \"Colors\"\n",
    "elif obj in Fruits:\n",
    "    category = \"Fruits\"\n",
    "elif obj in Animals:\n",
    "    category = \"Animals\"\n",
    "else:\n",
    "    category = \"Enter something from list\"\n",
    "\n",
    "print(category)"
   ]
  },
  {
   "cell_type": "markdown",
   "id": "e2339970",
   "metadata": {},
   "source": [
    "#### ii. Write a program that asks user to enter two cities and it tells you if they both are in same country or not. For example if I enter yellow and Black, it will print \"Both are colors\" but if I enter yellow and Tiger it should print \"They don't belong to same category\""
   ]
  },
  {
   "cell_type": "code",
   "execution_count": 4,
   "id": "931e42a9",
   "metadata": {},
   "outputs": [
    {
     "name": "stdout",
     "output_type": "stream",
     "text": [
      "Enter the First Name : Deer\n",
      "Enter the Second Name : White\n",
      "Category They don't belong to same category\n"
     ]
    }
   ],
   "source": [
    "name_1 = input('Enter the First Name : ')\n",
    "\n",
    "name_2 = input('Enter the Second Name : ')\n",
    "\n",
    "if name_1 in Colors and name_2 in Colors:\n",
    "    category = \"Both are Colors\"\n",
    "elif name_1 in Fruits and name_2 in Fruits:\n",
    "    category = \"Both are Fruits\"\n",
    "elif name_1 in Animals and name_2 in Animals:\n",
    "    category = \"Both are Animals\"\n",
    "else:\n",
    "    category = \"They don't belong to same category\"\n",
    "\n",
    "print('Category',category)"
   ]
  },
  {
   "cell_type": "markdown",
   "id": "c2d974f7",
   "metadata": {},
   "source": [
    "### 2.  Write a python program that can tell you if your grade score good or not . Good Score range is 40 to 60.\n",
    "\n",
    "  i. Ask user to enter his score.\n",
    "\n",
    "  ii. If it is below 40 to 60 range then print that score is low\n",
    "\n",
    "  iii. If it is above 60 then print that it is good otherwise print that it is normal"
   ]
  },
  {
   "cell_type": "code",
   "execution_count": 5,
   "id": "83e5055a",
   "metadata": {},
   "outputs": [
    {
     "name": "stdout",
     "output_type": "stream",
     "text": [
      "Enter the Score : 70\n",
      "Your Grade is Good\n"
     ]
    }
   ],
   "source": [
    "score = eval(input('Enter the Score : '))\n",
    "if score > 60:\n",
    "    print('Your Grade is Good')\n",
    "elif score < 40:\n",
    "    print('Your Grade is Low')\n",
    "else:\n",
    "    print('Your Grade is Normal')"
   ]
  },
  {
   "cell_type": "markdown",
   "id": "6b3de60f",
   "metadata": {},
   "source": [
    "#### 3.  After appearing in exam 10 times you got this result,\n",
    "\n",
    "result = [\"Pass\",\"Fail\",\"Fail\",\"Pass\",\"Fail\",\"Pass\",\"Pass\",\"Fail\",\"Fail\",\"Fail\"]\n",
    "\n",
    "Using for loop figure out how many times you got Pass"
   ]
  },
  {
   "cell_type": "code",
   "execution_count": 6,
   "id": "bba98654",
   "metadata": {},
   "outputs": [
    {
     "name": "stdout",
     "output_type": "stream",
     "text": [
      "4\n"
     ]
    }
   ],
   "source": [
    "result = [\"Pass\",\"Fail\",\"Fail\",\"Pass\",\"Fail\",\"Pass\",\"Pass\",\"Fail\",\"Fail\",\"Fail\"]\n",
    "\n",
    "count = 0\n",
    "\n",
    "for string in result:\n",
    "    if string == \"Pass\":\n",
    "        count += 1\n",
    "\n",
    "print(count)"
   ]
  },
  {
   "attachments": {
    "image.png": {
     "image/png": "[encoded data removed]"
    }
   },
   "cell_type": "markdown",
   "id": "809bff5a",
   "metadata": {},
   "source": [
    "#### 4.  Write a program that prints following shape\n",
    "\n",
    "![image.png](attachment:image.png)"
   ]
  },
  {
   "cell_type": "code",
   "execution_count": 9,
   "id": "ce041d4d",
   "metadata": {},
   "outputs": [
    {
     "name": "stdout",
     "output_type": "stream",
     "text": [
      "\n",
      "* \n",
      "* * \n",
      "* * * \n",
      "* * * * \n",
      "* * * * * \n",
      "* * * * \n",
      "* * * \n",
      "* * \n",
      "* \n"
     ]
    }
   ],
   "source": [
    "for i in range(5):\n",
    "    for j in range(i):\n",
    "        print ('* ', end=\"\")\n",
    "    print('')\n",
    "for i in range(5,0,-1):\n",
    "    for j in range(i):\n",
    "        print('* ', end=\"\")\n",
    "    print('')"
   ]
  },
  {
   "cell_type": "markdown",
   "id": "0bf3abab",
   "metadata": {},
   "source": [
    "#### 5.   Lets say you are running a 50 km race. Write a program that,\n",
    "\n",
    "Upon completing each 10 km asks you \"are you tired?\"\n",
    "If you reply \"yes\" then it should break and print \"you didn't finish the race\"\n",
    " If you reply \"no\" then it should continue and ask \"are you tired\" on every km\n",
    "If you finish all 50 km then it should print congratulations message"
   ]
  },
  {
   "cell_type": "code",
   "execution_count": 12,
   "id": "96b4e516",
   "metadata": {},
   "outputs": [
    {
     "name": "stdout",
     "output_type": "stream",
     "text": [
      "are you tired???\n",
      "Answer, Yes or No : no\n",
      "are you tired???\n",
      "Answer, Yes or No : no\n",
      "are you tired???\n",
      "Answer, Yes or No : no\n",
      "are you tired???\n",
      "Answer, Yes or No : no\n",
      "congratulations !\n"
     ]
    }
   ],
   "source": [
    "for distance in range(1,51):\n",
    "    if distance < 50 and distance % 10 == 0:\n",
    "        print(\"are you tired???\")\n",
    "        reply = input(\"Answer, Yes or No : \")\n",
    "        if reply == \"yes\":\n",
    "            print(\"you didn't finish the race\")\n",
    "            break\n",
    "        elif reply == \"no\":\n",
    "            continue\n",
    "        else:\n",
    "            print(\"Invalid Input\")\n",
    "    if distance == 50:\n",
    "        print('congratulations !')"
   ]
  },
  {
   "cell_type": "markdown",
   "id": "0b3185c1",
   "metadata": {},
   "source": [
    "#### 6.  Write a Python program to find those numbers which are divisible by 7 and multiple of 5, between 1500 and 2700 (both included)."
   ]
  },
  {
   "cell_type": "code",
   "execution_count": 15,
   "id": "eb8bef03",
   "metadata": {},
   "outputs": [
    {
     "name": "stdout",
     "output_type": "stream",
     "text": [
      "1505\t1540\t1575\t1610\t1645\t1680\t1715\t1750\t1785\t1820\t1855\t1890\t1925\t1960\t1995\t2030\t2065\t2100\t2135\t2170\t2205\t2240\t2275\t2310\t2345\t2380\t2415\t2450\t2485\t2520\t2555\t2590\t2625\t2660\t2695\t"
     ]
    }
   ],
   "source": [
    "for number in range(1500,2701):\n",
    "    if number % 7 == 0 and number % 5 == 0:\n",
    "        print(number, end=\"\\t\")"
   ]
  },
  {
   "cell_type": "markdown",
   "id": "bb201c69",
   "metadata": {},
   "source": [
    "#### 7.   Print square of all numbers between 10 to 20 except even numbers"
   ]
  },
  {
   "cell_type": "code",
   "execution_count": 16,
   "id": "fb00d61e",
   "metadata": {},
   "outputs": [
    {
     "name": "stdout",
     "output_type": "stream",
     "text": [
      "121\t169\t225\t289\t361\t"
     ]
    }
   ],
   "source": [
    "for number in range(10,21):\n",
    "    if number % 2 == 1:\n",
    "        print(number ** 2, end=\"\\t\")"
   ]
  },
  {
   "cell_type": "markdown",
   "id": "7d178435",
   "metadata": {},
   "source": [
    "#### 8.  Your Marks for five Test(test1 to test5) looks like this,\n",
    "\n",
    "marks_list = [65, 75, 2100, 95, 83]\n",
    "\n",
    "Write a program that asks you to enter marks and program should tell you in which test that marks occurred. If marks is not found then it should print that as well."
   ]
  },
  {
   "cell_type": "code",
   "execution_count": 19,
   "id": "e0f629d6",
   "metadata": {},
   "outputs": [
    {
     "name": "stdout",
     "output_type": "stream",
     "text": [
      "Please enter the marks :93\n",
      "Test marks not found\n"
     ]
    }
   ],
   "source": [
    "marks_list = [65, 75, 2100, 95, 83]\n",
    "marks= int(input(\"Please enter the marks :\"))\n",
    "\n",
    "if marks in marks_list:\n",
    "    mark = marks_list.index(marks)\n",
    "    print(\"Test marks found in the index\", mark)\n",
    "else:\n",
    "    print(\"Test marks not found\")"
   ]
  },
  {
   "cell_type": "code",
   "execution_count": null,
   "id": "b19f1f55",
   "metadata": {},
   "outputs": [],
   "source": []
  }
 ],
 "metadata": {
  "kernelspec": {
   "display_name": "Python 3",
   "language": "python",
   "name": "python3"
  },
  "language_info": {
   "codemirror_mode": {
    "name": "ipython",
    "version": 3
   },
   "file_extension": ".py",
   "mimetype": "text/x-python",
   "name": "python",
   "nbconvert_exporter": "python",
   "pygments_lexer": "ipython3",
   "version": "3.9.2"
  }
 },
 "nbformat": 4,
 "nbformat_minor": 5
}
