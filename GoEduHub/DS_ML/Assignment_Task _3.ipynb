{
 "cells": [
  {
   "cell_type": "markdown",
   "id": "9a4df3d3",
   "metadata": {},
   "source": [
    "# Assignment/Task 3\n",
    "\n",
    "## GO_STP_2\n",
    "\n",
    "#### Task Link : https://www.goeduhub.com/11531/dictionary-question-exercise-practice-solutions-learning"
   ]
  },
  {
   "cell_type": "markdown",
   "id": "0bc23f07",
   "metadata": {},
   "source": [
    "#### 1. Write a Python Program to sort (ascending and descending) a dictionary by value. "
   ]
  },
  {
   "cell_type": "code",
   "execution_count": 1,
   "id": "89bd287c",
   "metadata": {},
   "outputs": [
    {
     "name": "stdout",
     "output_type": "stream",
     "text": [
      "ascending order :  [(0, 0), (2, 1), (1, 2), (4, 3), (3, 4)]\n",
      "descending order :  {3: 4, 4: 3, 1: 2, 2: 1, 0: 0}\n"
     ]
    }
   ],
   "source": [
    "import operator\n",
    "d = {1: 2, 3: 4, 4: 3, 2: 1, 0: 0}\n",
    "s= sorted(d.items(), key=operator.itemgetter(1))\n",
    "print('ascending order : ',s)\n",
    "s1= dict( sorted(d.items(), key=operator.itemgetter(1),reverse=True))\n",
    "print('descending order : ',s1)"
   ]
  },
  {
   "cell_type": "markdown",
   "id": "af665e6f",
   "metadata": {},
   "source": [
    "#### 2. Write a Python Program to add a key to a dictionary. \n",
    "\n",
    "Sample Dictionary : {0: 10, 1: 20}\n",
    "Expected Result : {0: 10, 1: 20, 2: 30}"
   ]
  },
  {
   "cell_type": "code",
   "execution_count": 3,
   "id": "a4616ba1",
   "metadata": {},
   "outputs": [
    {
     "name": "stdout",
     "output_type": "stream",
     "text": [
      "{0: 10, 1: 20}\n",
      "{0: 10, 1: 20, 2: 30}\n"
     ]
    }
   ],
   "source": [
    "d = {0:10, 1:20}\n",
    "print(d)\n",
    "d.update({2:30})\n",
    "print(d)"
   ]
  },
  {
   "cell_type": "markdown",
   "id": "e12ef79f",
   "metadata": {},
   "source": [
    "#### 3. Write a  program asks for City name and Temperature and builds a dictionary using that Later on you can input City name and it will tell you the Temperature of that City."
   ]
  },
  {
   "cell_type": "code",
   "execution_count": 6,
   "id": "3cef84ed",
   "metadata": {},
   "outputs": [
    {
     "name": "stdout",
     "output_type": "stream",
     "text": [
      "Enter the City Name : Prayagraj\n",
      "Enter Temperature in Fahrenheit: 100\n",
      "Do you want to add more cities (Yes/No) : No\n",
      "Enter the city to see it's temperature : Prayagraj\n",
      "Temperature in Prayagraj is 100.00 °F\n"
     ]
    }
   ],
   "source": [
    "city_temp = dict()\n",
    "\n",
    "tocontinue = True\n",
    "\n",
    "while(tocontinue):\n",
    " city = input(\"Enter the City Name : \").strip()\n",
    " temperature = float(input(\"Enter Temperature in Fahrenheit: \").strip())\n",
    " city_temp[city] = temperature\n",
    " tostop = input(\"Do you want to add more cities (Yes/No) : \").strip()\n",
    " if not tostop.lower() == \"yes\":\n",
    "   tocontinue = False\n",
    "\n",
    "requiredCity = input(\"Enter the city to see it's temperature : \").strip()\n",
    "print(\"Temperature in %s is %.2f °F\" % (requiredCity,city_temp[requiredCity]))"
   ]
  },
  {
   "cell_type": "markdown",
   "id": "515bd249",
   "metadata": {},
   "source": [
    "#### 4.Write a Python program to convert list to list of dictionaries.\n",
    "\n",
    "Sample lists: [\"Black\", \"Red\", \"Maroon\", \"Yellow\"], [\"#000000\", \"#FF0000\", \"#800000\", \"#FFFF00\"]"
   ]
  },
  {
   "cell_type": "code",
   "execution_count": 1,
   "id": "73a10715",
   "metadata": {},
   "outputs": [
    {
     "name": "stdout",
     "output_type": "stream",
     "text": [
      "[{'color_name': 'Black', 'color_code': '#000000'}, {'color_name': 'Red', 'color_code': '#FF0000'}, {'color_name': 'Maroon', 'color_code': '#800000'}, {'color_name': 'Yellow', 'color_code': '#FFFF00'}]\n"
     ]
    }
   ],
   "source": [
    "color_name = [\"Black\", \"Red\", \"Maroon\", \"Yellow\"]\n",
    "color_code = [\"#000000\", \"#FF0000\", \"#800000\", \"#FFFF00\"]\n",
    "print([{'color_name': f, 'color_code': c} for f, c in zip(color_name, color_code)])"
   ]
  },
  {
   "cell_type": "markdown",
   "id": "635b6f4f",
   "metadata": {},
   "source": [
    "#### 5 We have following information on Employees and their Salary (Salary is in lakhs),\n",
    "\n",
    "Employee\tSalary\n",
    "\n",
    "John\t14\n",
    "Smith\t13\n",
    "Alice\t32\n",
    "Daneil\t21\n",
    "\n",
    "Using above create a dictionary of Employees and their Salary\n",
    "Write a program that asks user for three type of inputs,\n",
    "\n",
    "print: if user enter print then it should print all Employees with their Salary in this format,\n",
    "John ==>14\n",
    "Smith ==>13\n",
    "Alice ==>32\n",
    "Daneil ==>21\n",
    "\n",
    "add: if user input adds then it should further ask for an Employee name to add. If Employee already exists in our dataset then it should print that it exists and do nothing. If it doesn't then it asks for Salary and add that new Employee/Salary in our dictionary and print it\n",
    "\n",
    "remove: when user inputs remove it should ask for an Employee to remove. If an Employee exists in our dictionary then remove it and print a new dictionary using format shown above in (a). Else print that Employee doesn't exist!\n",
    "\n",
    "query: on this again ask the user for which Employee he or she wants to query. When a user inputs that Employee it will print the Salary of that Employee."
   ]
  },
  {
   "cell_type": "code",
   "execution_count": 7,
   "id": "fbbbe9b6",
   "metadata": {},
   "outputs": [
    {
     "name": "stdout",
     "output_type": "stream",
     "text": [
      "{'john': 14, 'smith': 13, 'alice': 32, 'daniel': 21}\n",
      "Enter print or add or remove or query:add\n",
      "Enter the Name:Prateek\n",
      "Enter the salary:40000\n"
     ]
    }
   ],
   "source": [
    "employees_salary={'john':14,'smith':13,'alice':32,'daniel':21}\n",
    "print(employees_salary)\n",
    "\n",
    "emp_salary={'john':14,'smith':13,'alice':32,'daniel':21}\n",
    "a=input(\"Enter print or add or remove or query:\")\n",
    "\n",
    "if a==\"print\":\n",
    " print('John ==>14')\n",
    " print('Smith ==>13')\n",
    " print('Alice ==>32')\n",
    " print('Daneil ==>2')\n",
    "    \n",
    "if a==\"add\":\n",
    " x=(input(\"Enter the Name:\"))\n",
    " y=(input(\"Enter the salary:\"))\n",
    " emp_salary.update(x=y)\n",
    "\n",
    "if a=='remove':\n",
    " n=input(\"enter what you want to be removed?\")\n",
    " emp_salary.pip(n)\n",
    "\n",
    "if a==\"query\":\n",
    " n=input(\"Enter employee name:\")\n",
    " emp_salary[n]"
   ]
  },
  {
   "cell_type": "markdown",
   "id": "ff078d6a",
   "metadata": {},
   "source": [
    " ### Questions on Sets"
   ]
  },
  {
   "cell_type": "markdown",
   "id": "f048ea55",
   "metadata": {},
   "source": [
    " #### 1 What is the difference between a set and a frozenset? Create any set and try to use frozenset(setname)."
   ]
  },
  {
   "cell_type": "markdown",
   "id": "8fa877df",
   "metadata": {},
   "source": [
    "They use different instance constructors: set() vs. frozenset(). Set objects can be constructed using literals with curly braces. Opposite to set objects being mutable and unhashable, frozenset objects are immutable and hashable, and thus they can be elements of other set objects and keys for dictionaries.The word frozenset indicates that a python set has been frozen. This means the elements of a set which is frozen can't be changed, they are immutable. A frozenset is essentially the unchangeable or immutable version of the set object.\n",
    "\n",
    "\n",
    "Syntax of frozenset\n",
    "Following is the syntax for a frozenset:\n",
    "\n",
    "\n",
    "class frozenset([iterable])\n",
    "It either returns a new set which is a frozenset object that contains elements from the iterable.\n",
    "\n",
    "This iterable isn't always necessary. The output of the function depends on whether the parameter has been provided. The iterable could be a set, tuple or a dictionary structure. If the iterable hasn't been provided, it returns an empty set.Creating a frozenset\n",
    "\n",
    "In the code below, we have created a tuple can with different data values. It is then passed as a parameter to the frozenset function. It converts the tuple into a frozen set and returns a frozenset with data in an arbitrary order.\n",
    "a_tuple = ('a', 'e', 'i', 'o', 'u', 1,2,3)\n",
    "my_new_fSet = frozenset(a_tuple)\n",
    "print(my_new_fSet)\n",
    "Output:\n",
    "\n",
    "({'o', 1, 2, 3, 'u', 'e', 'i', 'a'})"
   ]
  },
  {
   "cell_type": "markdown",
   "id": "a83c3791",
   "metadata": {},
   "source": [
    "#### 2. Find the elements in a given set that are not in another set\n",
    "\n",
    "    set1 = {10,20,30,40,50}\n",
    "\n",
    "    set2 = {40,50,60,70,80}\n",
    "\n",
    " Difference between set1 and set2 is {10,20,30}"
   ]
  },
  {
   "cell_type": "code",
   "execution_count": 11,
   "id": "4bed2c63",
   "metadata": {},
   "outputs": [
    {
     "data": {
      "text/plain": [
       "{10, 20, 30}"
      ]
     },
     "execution_count": 11,
     "metadata": {},
     "output_type": "execute_result"
    }
   ],
   "source": [
    "set1 = {10,20,30,40,50}\n",
    "set2 = {40,50,60,70,80}\n",
    "\n",
    "set1-set2"
   ]
  }
 ],
 "metadata": {
  "kernelspec": {
   "display_name": "Python 3",
   "language": "python",
   "name": "python3"
  },
  "language_info": {
   "codemirror_mode": {
    "name": "ipython",
    "version": 3
   },
   "file_extension": ".py",
   "mimetype": "text/x-python",
   "name": "python",
   "nbconvert_exporter": "python",
   "pygments_lexer": "ipython3",
   "version": "3.9.2"
  }
 },
 "nbformat": 4,
 "nbformat_minor": 5
}
