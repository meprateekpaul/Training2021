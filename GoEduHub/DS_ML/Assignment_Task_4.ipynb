{
 "cells": [
  {
   "cell_type": "markdown",
   "id": "9a4df3d3",
   "metadata": {},
   "source": [
    "# Assignment/Task 4\n",
    "\n",
    "## GO_STP_2\n",
    "\n",
    "#### Task Link : https://www.goeduhub.com/11546/question-exercise-practice-solutions-science-machine-learning"
   ]
  },
  {
   "cell_type": "markdown",
   "id": "0bc23f07",
   "metadata": {},
   "source": [
    "#### 1. Import the numpy package under the name np and Print the numpy version and the configuration "
   ]
  },
  {
   "cell_type": "code",
   "execution_count": 1,
   "id": "89bd287c",
   "metadata": {},
   "outputs": [
    {
     "name": "stdout",
     "output_type": "stream",
     "text": [
      "Version: 1.19.3\n",
      "blas_mkl_info:\n",
      "  NOT AVAILABLE\n",
      "blis_info:\n",
      "  NOT AVAILABLE\n",
      "openblas_info:\n",
      "    library_dirs = ['D:\\\\a\\\\1\\\\s\\\\numpy\\\\build\\\\openblas_info']\n",
      "    libraries = ['openblas_info']\n",
      "    language = f77\n",
      "    define_macros = [('HAVE_CBLAS', None)]\n",
      "blas_opt_info:\n",
      "    library_dirs = ['D:\\\\a\\\\1\\\\s\\\\numpy\\\\build\\\\openblas_info']\n",
      "    libraries = ['openblas_info']\n",
      "    language = f77\n",
      "    define_macros = [('HAVE_CBLAS', None)]\n",
      "lapack_mkl_info:\n",
      "  NOT AVAILABLE\n",
      "openblas_lapack_info:\n",
      "    library_dirs = ['D:\\\\a\\\\1\\\\s\\\\numpy\\\\build\\\\openblas_lapack_info']\n",
      "    libraries = ['openblas_lapack_info']\n",
      "    language = f77\n",
      "    define_macros = [('HAVE_CBLAS', None)]\n",
      "lapack_opt_info:\n",
      "    library_dirs = ['D:\\\\a\\\\1\\\\s\\\\numpy\\\\build\\\\openblas_lapack_info']\n",
      "    libraries = ['openblas_lapack_info']\n",
      "    language = f77\n",
      "    define_macros = [('HAVE_CBLAS', None)]\n",
      "None\n"
     ]
    }
   ],
   "source": [
    "import numpy as np\n",
    "print(\"Version: {}\".format(np.__version__))\n",
    "print(np.show_config())"
   ]
  },
  {
   "cell_type": "markdown",
   "id": "af665e6f",
   "metadata": {},
   "source": [
    "#### 2. Create a null vector of size 10\n"
   ]
  },
  {
   "cell_type": "code",
   "execution_count": 2,
   "id": "a4616ba1",
   "metadata": {},
   "outputs": [
    {
     "data": {
      "text/plain": [
       "array([0., 0., 0., 0., 0., 0., 0., 0., 0., 0.])"
      ]
     },
     "execution_count": 2,
     "metadata": {},
     "output_type": "execute_result"
    }
   ],
   "source": [
    "x= np.zeros(10)\n",
    "x"
   ]
  },
  {
   "cell_type": "code",
   "execution_count": 3,
   "id": "4ac174d1",
   "metadata": {},
   "outputs": [
    {
     "data": {
      "text/plain": [
       "array([1, 3, 5, 7, 9])"
      ]
     },
     "execution_count": 3,
     "metadata": {},
     "output_type": "execute_result"
    }
   ],
   "source": [
    "a= np.arange(1,10,2)\n",
    "a"
   ]
  },
  {
   "cell_type": "code",
   "execution_count": 4,
   "id": "64e5b1bc",
   "metadata": {},
   "outputs": [
    {
     "data": {
      "text/plain": [
       "dtype('int32')"
      ]
     },
     "execution_count": 4,
     "metadata": {},
     "output_type": "execute_result"
    }
   ],
   "source": [
    "a.dtype"
   ]
  },
  {
   "cell_type": "code",
   "execution_count": 5,
   "id": "6b52d2cb",
   "metadata": {},
   "outputs": [
    {
     "data": {
      "text/plain": [
       "numpy.ndarray"
      ]
     },
     "execution_count": 5,
     "metadata": {},
     "output_type": "execute_result"
    }
   ],
   "source": [
    "type(a)"
   ]
  },
  {
   "cell_type": "markdown",
   "id": "e12ef79f",
   "metadata": {},
   "source": [
    "#### 3. Create Simple 1-D array and check type and check data types in array."
   ]
  },
  {
   "cell_type": "code",
   "execution_count": 6,
   "id": "3cef84ed",
   "metadata": {},
   "outputs": [
    {
     "name": "stdout",
     "output_type": "stream",
     "text": [
      "[ 5 10 15 20]\n",
      "<class 'numpy.ndarray'>\n",
      "int32\n"
     ]
    }
   ],
   "source": [
    "import numpy as np\n",
    "a = np.array([5,10,15,20])\n",
    "print(a)\n",
    "print(type(a))\n",
    "print(a.dtype)"
   ]
  },
  {
   "cell_type": "markdown",
   "id": "515bd249",
   "metadata": {},
   "source": [
    "#### 4.How to find number of dimensions, bytes per element and bytes of memory used?"
   ]
  },
  {
   "cell_type": "code",
   "execution_count": 7,
   "id": "73a10715",
   "metadata": {},
   "outputs": [
    {
     "name": "stdout",
     "output_type": "stream",
     "text": [
      "dimension: (3, 3)\n",
      "Bytes per Element: 4\n",
      "Memory size of numpy array is 36\n"
     ]
    }
   ],
   "source": [
    "import sys\n",
    "a = np.arange(1,10).reshape(3,3)\n",
    "print(f\"dimension: {a.shape}\")\n",
    "print(\"Bytes per Element: {}\".format(a.itemsize))\n",
    "print(\"Memory size of numpy array is \" +str(a.size*a.itemsize))"
   ]
  },
  {
   "cell_type": "markdown",
   "id": "635b6f4f",
   "metadata": {},
   "source": [
    "#### 5. Create a null vector of size 10 but the fifth value which is 1"
   ]
  },
  {
   "cell_type": "code",
   "execution_count": 9,
   "id": "fbbbe9b6",
   "metadata": {},
   "outputs": [
    {
     "data": {
      "text/plain": [
       "array([0, 0, 0, 0, 1, 0, 0, 0, 0, 0])"
      ]
     },
     "execution_count": 9,
     "metadata": {},
     "output_type": "execute_result"
    }
   ],
   "source": [
    "a = (np.arange(10)==4).astype(int)\n",
    "a"
   ]
  },
  {
   "cell_type": "markdown",
   "id": "f048ea55",
   "metadata": {},
   "source": [
    " #### 6. Create a vector with values ranging from 10 to 49"
   ]
  },
  {
   "cell_type": "code",
   "execution_count": 11,
   "id": "5752aa54",
   "metadata": {},
   "outputs": [
    {
     "name": "stdout",
     "output_type": "stream",
     "text": [
      "[10 11 12 13 14 15 16 17 18 19 20 21 22 23 24 25 26 27 28 29 30 31 32 33\n",
      " 34 35 36 37 38 39 40 41 42 43 44 45 46 47 48 49]\n",
      "\n",
      " Reversed vector\n",
      " [49 48 47 46 45 44 43 42 41 40 39 38 37 36 35 34 33 32 31 30 29 28 27 26\n",
      " 25 24 23 22 21 20 19 18 17 16 15 14 13 12 11 10]\n"
     ]
    }
   ],
   "source": [
    "a=np.arange(10,50)\n",
    "print(a)\n",
    "# Reverse a vector (first element becomes last)\n",
    "print(\"\\n Reversed vector\\n\",np.flipud(a))"
   ]
  },
  {
   "cell_type": "markdown",
   "id": "aa2896d3",
   "metadata": {},
   "source": [
    "#### 7. Reverse a vector (first element becomes last)"
   ]
  },
  {
   "cell_type": "code",
   "execution_count": 12,
   "id": "fd26a0d4",
   "metadata": {},
   "outputs": [
    {
     "name": "stdout",
     "output_type": "stream",
     "text": [
      "[12 13  8  4 17 24 40 30 20 10]\n"
     ]
    }
   ],
   "source": [
    "import numpy as np\n",
    "a = np.array([10,20,30,40,24,17,4,8,13,12])\n",
    "print(a[::-1])"
   ]
  },
  {
   "cell_type": "markdown",
   "id": "24408c95",
   "metadata": {},
   "source": [
    "#### 8.Create a 3x3 matrix with values ranging from 0 to 8"
   ]
  },
  {
   "cell_type": "code",
   "execution_count": 13,
   "id": "b56f3dd8",
   "metadata": {},
   "outputs": [
    {
     "data": {
      "text/plain": [
       "array([[0, 1, 2],\n",
       "       [3, 4, 5],\n",
       "       [6, 7, 8]])"
      ]
     },
     "execution_count": 13,
     "metadata": {},
     "output_type": "execute_result"
    }
   ],
   "source": [
    "a=np.arange(9).reshape(3,3)\n",
    "a"
   ]
  },
  {
   "cell_type": "markdown",
   "id": "82e3e4a2",
   "metadata": {},
   "source": [
    "#### 9. Find indices of non-zero elements from [1,2,0,0,4,0]"
   ]
  },
  {
   "cell_type": "code",
   "execution_count": 14,
   "id": "6cc2ae7c",
   "metadata": {},
   "outputs": [
    {
     "name": "stdout",
     "output_type": "stream",
     "text": [
      "indexes of non-zero elements are: (array([0, 1, 4], dtype=int64),)\n"
     ]
    }
   ],
   "source": [
    "a= np.array([1,2,0,0,4,0])\n",
    "print(\"indexes of non-zero elements are:\", np.nonzero(a))"
   ]
  },
  {
   "cell_type": "markdown",
   "id": "a83c3791",
   "metadata": {},
   "source": [
    "#### 10. Create a 3x3 identity matrix"
   ]
  },
  {
   "cell_type": "code",
   "execution_count": 15,
   "id": "a4e666e3",
   "metadata": {},
   "outputs": [
    {
     "data": {
      "text/plain": [
       "array([[1., 0., 0.],\n",
       "       [0., 1., 0.],\n",
       "       [0., 0., 1.]])"
      ]
     },
     "execution_count": 15,
     "metadata": {},
     "output_type": "execute_result"
    }
   ],
   "source": [
    " np.identity(3)"
   ]
  },
  {
   "cell_type": "markdown",
   "id": "d2965c8f",
   "metadata": {},
   "source": [
    "#### 11. Create a 3x3x3 array with random values"
   ]
  },
  {
   "cell_type": "code",
   "execution_count": 16,
   "id": "31befa46",
   "metadata": {},
   "outputs": [
    {
     "data": {
      "text/plain": [
       "array([[[0.87994985, 0.79395128, 0.20198935],\n",
       "        [0.46133845, 0.70182381, 0.93448017],\n",
       "        [0.02777151, 0.57187656, 0.54453229]],\n",
       "\n",
       "       [[0.44833745, 0.86782489, 0.58071489],\n",
       "        [0.85900196, 0.8726722 , 0.14758922],\n",
       "        [0.80890179, 0.78948197, 0.96522579]],\n",
       "\n",
       "       [[0.9302689 , 0.09963252, 0.31602571],\n",
       "        [0.15771279, 0.6334174 , 0.09092248],\n",
       "        [0.21458265, 0.8996219 , 0.09675419]]])"
      ]
     },
     "execution_count": 16,
     "metadata": {},
     "output_type": "execute_result"
    }
   ],
   "source": [
    "np.random.random((3,3,3))"
   ]
  },
  {
   "cell_type": "markdown",
   "id": "2924129a",
   "metadata": {},
   "source": [
    "#### 12. Create a 10x10 array with random values and find the minimum and maximum values"
   ]
  },
  {
   "cell_type": "code",
   "execution_count": 17,
   "id": "9b1ecf0f",
   "metadata": {},
   "outputs": [
    {
     "name": "stdout",
     "output_type": "stream",
     "text": [
      "max value 0.9971082695968364\n",
      "min value 0.004979029081588648\n",
      "Mean value is 0.481410598775416\n"
     ]
    },
    {
     "data": {
      "text/plain": [
       "array([0.08613378, 0.31172199, 0.63001921, 0.35770235, 0.38281383,\n",
       "       0.74331789, 0.06469451, 0.08695693, 0.15345675, 0.59328952,\n",
       "       0.12860082, 0.86943952, 0.87836383, 0.93218076, 0.96315058,\n",
       "       0.21581501, 0.21522037, 0.81075913, 0.56619621, 0.10198195,\n",
       "       0.72128398, 0.41611099, 0.64576915, 0.10018846, 0.04250096,\n",
       "       0.2747528 , 0.66672302, 0.98198458, 0.91254714, 0.58864195])"
      ]
     },
     "execution_count": 17,
     "metadata": {},
     "output_type": "execute_result"
    }
   ],
   "source": [
    "a = np.random.random((10,10))\n",
    "print('max value',a.max())\n",
    "print('min value',a.min())\n",
    "# Create a random vector of size 30 and find the mean value\n",
    "vector = np.random.random(30)\n",
    "print(\"Mean value is\",vector.mean())\n",
    "vector"
   ]
  },
  {
   "cell_type": "markdown",
   "id": "c8624dd0",
   "metadata": {},
   "source": [
    "#### 13. Create a random vector of size 30 and find the mean value."
   ]
  },
  {
   "cell_type": "code",
   "execution_count": 20,
   "id": "2305d398",
   "metadata": {},
   "outputs": [
    {
     "name": "stdout",
     "output_type": "stream",
     "text": [
      "[0.37434525 0.00926207 0.62180977 0.92331225 0.86404005 0.93383409\n",
      " 0.86000851 0.77216325 0.8065801  0.23921049 0.82598036 0.08680809\n",
      " 0.94766909 0.24023371 0.17932632 0.41541743 0.84258973 0.13688958\n",
      " 0.20909105 0.86931916 0.35909666 0.7743509  0.92986176 0.86867241\n",
      " 0.39270686 0.25254148 0.97617952 0.34737718 0.04708921 0.04684128]\n",
      "Mean value: 0.538420253916471\n"
     ]
    }
   ],
   "source": [
    "import numpy as np\n",
    "a = np.random.random(30)\n",
    "print(a)\n",
    "print(\"Mean value:\",a.mean())"
   ]
  },
  {
   "cell_type": "markdown",
   "id": "9aae0b37",
   "metadata": {},
   "source": [
    "#### 14. Create a 2d array with 1 on the border and 0 inside."
   ]
  },
  {
   "cell_type": "code",
   "execution_count": 22,
   "id": "8a7c5f93",
   "metadata": {},
   "outputs": [
    {
     "name": "stdout",
     "output_type": "stream",
     "text": [
      "[[1. 1. 1. 1. 1. 1. 1. 1. 1. 1.]\n",
      " [1. 1. 1. 1. 1. 1. 1. 1. 1. 1.]\n",
      " [1. 1. 1. 1. 1. 1. 1. 1. 1. 1.]\n",
      " [1. 1. 1. 1. 1. 1. 1. 1. 1. 1.]\n",
      " [1. 1. 1. 1. 1. 1. 1. 1. 1. 1.]\n",
      " [1. 1. 1. 1. 1. 1. 1. 1. 1. 1.]\n",
      " [1. 1. 1. 1. 1. 1. 1. 1. 1. 1.]\n",
      " [1. 1. 1. 1. 1. 1. 1. 1. 1. 1.]\n",
      " [1. 1. 1. 1. 1. 1. 1. 1. 1. 1.]\n",
      " [1. 1. 1. 1. 1. 1. 1. 1. 1. 1.]]\n",
      " \n",
      "Array with 1 on the border and 0 inside:\n",
      "[[1. 1. 1. 1. 1. 1. 1. 1. 1. 1.]\n",
      " [1. 0. 0. 0. 0. 0. 0. 0. 0. 1.]\n",
      " [1. 0. 0. 0. 0. 0. 0. 0. 0. 1.]\n",
      " [1. 0. 0. 0. 0. 0. 0. 0. 0. 1.]\n",
      " [1. 0. 0. 0. 0. 0. 0. 0. 0. 1.]\n",
      " [1. 0. 0. 0. 0. 0. 0. 0. 0. 1.]\n",
      " [1. 0. 0. 0. 0. 0. 0. 0. 0. 1.]\n",
      " [1. 0. 0. 0. 0. 0. 0. 0. 0. 1.]\n",
      " [1. 0. 0. 0. 0. 0. 0. 0. 0. 1.]\n",
      " [1. 1. 1. 1. 1. 1. 1. 1. 1. 1.]]\n"
     ]
    }
   ],
   "source": [
    "a=np.ones((10,10))\n",
    "print(a)\n",
    "print(\" \\nArray with 1 on the border and 0 inside:\")\n",
    "a[1:-1, 1:-1] = 0\n",
    "print(a)"
   ]
  },
  {
   "cell_type": "markdown",
   "id": "09b605c2",
   "metadata": {},
   "source": [
    "#### 15. How to add a border (filled with 0's) around an existing array? "
   ]
  },
  {
   "cell_type": "code",
   "execution_count": 23,
   "id": "d2530564",
   "metadata": {},
   "outputs": [
    {
     "data": {
      "text/plain": [
       "array([[0, 0, 0, 0, 0],\n",
       "       [0, 1, 2, 3, 0],\n",
       "       [0, 4, 5, 6, 0],\n",
       "       [0, 7, 8, 9, 0],\n",
       "       [0, 0, 0, 0, 0]])"
      ]
     },
     "execution_count": 23,
     "metadata": {},
     "output_type": "execute_result"
    }
   ],
   "source": [
    "arr = np.arange(1,10).reshape(3,3)\n",
    "np.pad(arr, pad_width=1, mode='constant', constant_values=0 )"
   ]
  },
  {
   "cell_type": "markdown",
   "id": "421e441a",
   "metadata": {},
   "source": [
    "#### 16.How to Accessing/Changing specific elements, rows, columns, etc in Numpy array?\n",
    "\n",
    "Example -\n",
    "[[ 1 2 3 4 5 6 7] [ 8 9 10 11 12 13 14]]\n",
    "\n",
    "Get 13, get first row only, get 3rd column only, get [2, 4, 6], replace 13 by 20"
   ]
  },
  {
   "cell_type": "code",
   "execution_count": 24,
   "id": "6f7d75db",
   "metadata": {},
   "outputs": [
    {
     "name": "stdout",
     "output_type": "stream",
     "text": [
      "[[ 1  2  3  4  5  6  7]\n",
      " [ 8  9 10 11 12 13 14]]\n",
      "13\n",
      "[1 2 3 4 5 6 7]\n",
      "[ 3 10]\n",
      "[2 4 6]\n",
      "[[ 1  2  3  4  5  6  7]\n",
      " [ 8  9 10 11 12 20 14]]\n"
     ]
    }
   ],
   "source": [
    "import numpy as np\n",
    "a = np.arange(1,15).reshape(2,7)\n",
    "print(a)\n",
    "print(a[1,5])\n",
    "print(a[0,0:])\n",
    "print(a[0:2,2])\n",
    "print(a[0,1:6:2])\n",
    "print(np.where(a==13, 20, a))"
   ]
  },
  {
   "cell_type": "markdown",
   "id": "82802a9a",
   "metadata": {},
   "source": [
    "#### 17. How to Convert a 1D array to a 2D array with 2 rows"
   ]
  },
  {
   "cell_type": "code",
   "execution_count": 25,
   "id": "12f1048f",
   "metadata": {},
   "outputs": [
    {
     "name": "stdout",
     "output_type": "stream",
     "text": [
      "[[10 20 30]\n",
      " [40 50 60]]\n"
     ]
    }
   ],
   "source": [
    "import numpy as np\n",
    "a = np.array([10,20,30,40,50,60]).reshape(2,3)\n",
    "print(a)"
   ]
  },
  {
   "cell_type": "markdown",
   "id": "61646c37",
   "metadata": {},
   "source": [
    "#### 18.Create the following pattern without hardcoding. Use only numpy functions and the below input array a.\n",
    "\n",
    "Input:\n",
    "\n",
    "a = np.array([1,2,3])`\n",
    "\n",
    "Desired Output:\n",
    "\n",
    "#> array([1, 1, 1, 2, 2, 2, 3, 3, 3, 1, 2, 3, 1, 2, 3, 1, 2, 3])"
   ]
  },
  {
   "cell_type": "markdown",
   "id": "dbe796ff",
   "metadata": {},
   "source": [
    "#### 19.Write a program to show how Numpy taking less memory compared to Python List?"
   ]
  },
  {
   "cell_type": "code",
   "execution_count": 26,
   "id": "351ffffc",
   "metadata": {},
   "outputs": [
    {
     "name": "stdout",
     "output_type": "stream",
     "text": [
      "28\n",
      "28000\n",
      "1000\n",
      "4000\n"
     ]
    }
   ],
   "source": [
    "import numpy as np\n",
    "l = range(1000)\n",
    "import sys\n",
    "a = 10\n",
    "print(sys.getsizeof(a)) #memory allocated to a\n",
    "print(sys.getsizeof(a)*len(l))\n",
    "a1 = np.arange(1000)\n",
    "print(a1.size)\n",
    "print(a1.size*a1.itemsize)"
   ]
  },
  {
   "cell_type": "markdown",
   "id": "6c16ace6",
   "metadata": {},
   "source": [
    "#### 20.Write a program to show how Numpy taking less time compared to Python List?"
   ]
  },
  {
   "cell_type": "code",
   "execution_count": 30,
   "id": "4fd8d2b3",
   "metadata": {},
   "outputs": [
    {
     "name": "stdout",
     "output_type": "stream",
     "text": [
      "109.23361778259277\n",
      "0.0\n"
     ]
    }
   ],
   "source": [
    "import numpy as np\n",
    "import sys\n",
    "import time\n",
    "\n",
    "size = 1000000\n",
    "l1 = range(size)\n",
    "l2 = range(size)\n",
    "\n",
    "start = time.time()\n",
    "result = [(x+y) for x,y in zip(l1,l2)]\n",
    "\n",
    "n1 = np.arange(size)\n",
    "n2 = np.arange(size)\n",
    "\n",
    "#list itemwise sum\n",
    "print((time.time()-start)*1000)\n",
    "\n",
    "#numpy array itemwise sum\n",
    "start = time.time()\n",
    "result1 = n1+n2\n",
    "\n",
    "print((time.time()-start)*1000)\n"
   ]
  },
  {
   "cell_type": "code",
   "execution_count": null,
   "id": "029d77a1",
   "metadata": {},
   "outputs": [],
   "source": []
  }
 ],
 "metadata": {
  "kernelspec": {
   "display_name": "Python 3",
   "language": "python",
   "name": "python3"
  },
  "language_info": {
   "codemirror_mode": {
    "name": "ipython",
    "version": 3
   },
   "file_extension": ".py",
   "mimetype": "text/x-python",
   "name": "python",
   "nbconvert_exporter": "python",
   "pygments_lexer": "ipython3",
   "version": "3.9.2"
  }
 },
 "nbformat": 4,
 "nbformat_minor": 5
}
