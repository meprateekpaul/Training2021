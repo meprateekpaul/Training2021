{
 "cells": [
  {
   "cell_type": "markdown",
   "metadata": {
    "id": "YNEm2fvnE3W1"
   },
   "source": [
    "# Assignment/Task 10\n",
    "\n",
    "## GO_STP_2\n",
    "## Prateek Paul\n"
   ]
  },
  {
   "cell_type": "markdown",
   "metadata": {
    "id": "OdrEIWFZE-1Z"
   },
   "source": [
    "**Q - What is One-Hot Encoding in Python with Pandas | How to use Pandas get_dummies to Create Dummy Variables**\n",
    "\n",
    "---\n",
    "Discuss the concept of One-Hot-Encoding, Multicollinearity and the Dummy Variable Trap.  What is Nominal and Ordinal Variables ?\n",
    "\n",
    "Salary Dataset of 52 professors having categorical columns. Apply dummy variables concept and one-hot-encoding on categorical columns.\n",
    "\n",
    "Dataset Link- [Click here](https://data.princeton.edu/wws509/datasets/salary.dat)\n",
    "\n",
    "\n",
    "---\n",
    "\n",
    "\n",
    "\n",
    "\n",
    "\n",
    "\n",
    "\n"
   ]
  },
  {
   "cell_type": "markdown",
   "metadata": {
    "id": "-Pw63mlfHBIL"
   },
   "source": [
    "**1.  What is Nominal and Ordinal Variables  ?**\n",
    "\n",
    "---\n",
    "\n",
    "\n",
    "\n",
    " **Nominal variable** :- nominal variable is a type of variable that is used to name, label or categorize particular attributes that are being measured. It takes qualitative values representing different categories, and there is no intrinsic ordering of these categories.\n",
    "You can code nominal variables with numbers, but the order is arbitrary and arithmetic operations cannot be performed on the numbers. \n",
    "\n",
    "A nominal variable is one of the 2 types of categorical variables and is the simplest among all the measurement variables. Some examples of nominal variables include gender, Name, phone, etc.\n",
    "\n",
    "\n",
    "\n",
    "**Ordinal variable :-**\n",
    "Ordinal variable is a type of measurement variable that takes values with an order or rank. It is the 2nd level of measurement and is an extension of the nominal variable.\n",
    "They are built upon nominal scales by assigning numbers to objects to reflect a rank or ordering on an attribute. Also, there is no standard ordering in the ordinal variable scale. \n",
    "\n",
    "In another sense, we could say the difference in the rank of an ordinal variable is not equal. It is mostly classified as one of the 2 types of categorical variables, while in some cases it is said to be a midpoint between categorical and numerical variables."
   ]
  },
  {
   "cell_type": "markdown",
   "metadata": {
    "id": "bk_Vlt9cJA5S"
   },
   "source": [
    "**2. Discuss the concept of one hot encoding,  Multicollinearity and the Dummy variable trap**\n",
    "\n",
    "\n",
    "---\n",
    "\n",
    "\n",
    "**One hot encoding** \n",
    "\n",
    "* is one method of converting data to prepare it for an algorithm and get a better prediction.\n",
    "\n",
    "*  With one-hot, we convert each categorical value into a new categorical column and assign a binary value of 1 or 0 to those columns.\n",
    "\n",
    "* Each integer value is represented as a binary vector.\n",
    "* All the values are zero, and the index is marked with a 1.\n",
    "* One hot encoding makes our training data more useful and expressive, and it can be rescaled easily. By using numeric values, we more easily determine a probability for our values. In particular, one hot encoding is used for our output values, since it provides more nuanced predictions than single labels.\n",
    "\n",
    "**Multicollinearity**\n",
    "\n",
    "* Multicollinearity is the occurrence of high intercorrelations among two or more independent variables in a multiple regression model. \n",
    "\n",
    "* Multicollinearity can lead to skewed or misleading results when a researcher or analyst attempts to determine how well each independent variable can be used most effectively to predict or understand the dependent variable in a statistical model.\n",
    "\n",
    "**Dummy varible trap**\n",
    "* Dummy Variable Trap as the outcome of one variable can easily be predicted with the help\n",
    "of the remaining variables.\n",
    "* Dummy Variable Trap is a scenario in which variables are highly correlated to each other.\n",
    "* The Dummy Variable Trap leads to the problem known as Multicollinearity. Multicollinearity occurs where there is a dependency between the independent features.\n",
    "\n",
    "\n",
    "\n",
    "\n",
    "---\n",
    "\n",
    "\n",
    "\n"
   ]
  },
  {
   "cell_type": "code",
   "execution_count": 5,
   "metadata": {
    "executionInfo": {
     "elapsed": 445,
     "status": "ok",
     "timestamp": 1623249356872,
     "user": {
      "displayName": "kajal rai",
      "photoUrl": "https://lh3.googleusercontent.com/a-/AOh14Gg68NzXNjnWc9NwDDDkGMl-abqbDW1VuGmYTDBjgA=s64",
      "userId": "03677648993455904671"
     },
     "user_tz": -330
    },
    "id": "Dos7EpjpG7AJ"
   },
   "outputs": [],
   "source": [
    "import numpy as np\n",
    "import pandas as pd"
   ]
  },
  {
   "cell_type": "code",
   "execution_count": 7,
   "metadata": {
    "colab": {
     "base_uri": "https://localhost:8080/",
     "height": 205
    },
    "executionInfo": {
     "elapsed": 698,
     "status": "ok",
     "timestamp": 1623249358166,
     "user": {
      "displayName": "kajal rai",
      "photoUrl": "https://lh3.googleusercontent.com/a-/AOh14Gg68NzXNjnWc9NwDDDkGMl-abqbDW1VuGmYTDBjgA=s64",
      "userId": "03677648993455904671"
     },
     "user_tz": -330
    },
    "id": "Wm7VXBGTEXZ-",
    "outputId": "f9bc3afb-6674-4d6a-fded-e86d7f82ea85"
   },
   "outputs": [
    {
     "data": {
      "text/html": [
       "<div>\n",
       "<style scoped>\n",
       "    .dataframe tbody tr th:only-of-type {\n",
       "        vertical-align: middle;\n",
       "    }\n",
       "\n",
       "    .dataframe tbody tr th {\n",
       "        vertical-align: top;\n",
       "    }\n",
       "\n",
       "    .dataframe thead th {\n",
       "        text-align: right;\n",
       "    }\n",
       "</style>\n",
       "<table border=\"1\" class=\"dataframe\">\n",
       "  <thead>\n",
       "    <tr style=\"text-align: right;\">\n",
       "      <th></th>\n",
       "      <th>sx</th>\n",
       "      <th>rk</th>\n",
       "      <th>yr</th>\n",
       "      <th>dg</th>\n",
       "      <th>yd</th>\n",
       "      <th>sl</th>\n",
       "    </tr>\n",
       "  </thead>\n",
       "  <tbody>\n",
       "    <tr>\n",
       "      <th>0</th>\n",
       "      <td>male</td>\n",
       "      <td>full</td>\n",
       "      <td>25</td>\n",
       "      <td>doctorate</td>\n",
       "      <td>35</td>\n",
       "      <td>36350</td>\n",
       "    </tr>\n",
       "    <tr>\n",
       "      <th>1</th>\n",
       "      <td>male</td>\n",
       "      <td>full</td>\n",
       "      <td>13</td>\n",
       "      <td>doctorate</td>\n",
       "      <td>22</td>\n",
       "      <td>35350</td>\n",
       "    </tr>\n",
       "    <tr>\n",
       "      <th>2</th>\n",
       "      <td>male</td>\n",
       "      <td>full</td>\n",
       "      <td>10</td>\n",
       "      <td>doctorate</td>\n",
       "      <td>23</td>\n",
       "      <td>28200</td>\n",
       "    </tr>\n",
       "    <tr>\n",
       "      <th>3</th>\n",
       "      <td>female</td>\n",
       "      <td>full</td>\n",
       "      <td>7</td>\n",
       "      <td>doctorate</td>\n",
       "      <td>27</td>\n",
       "      <td>26775</td>\n",
       "    </tr>\n",
       "    <tr>\n",
       "      <th>4</th>\n",
       "      <td>male</td>\n",
       "      <td>full</td>\n",
       "      <td>19</td>\n",
       "      <td>masters</td>\n",
       "      <td>30</td>\n",
       "      <td>33696</td>\n",
       "    </tr>\n",
       "  </tbody>\n",
       "</table>\n",
       "</div>"
      ],
      "text/plain": [
       "       sx    rk  yr         dg  yd     sl\n",
       "0    male  full  25  doctorate  35  36350\n",
       "1    male  full  13  doctorate  22  35350\n",
       "2    male  full  10  doctorate  23  28200\n",
       "3  female  full   7  doctorate  27  26775\n",
       "4    male  full  19    masters  30  33696"
      ]
     },
     "execution_count": 7,
     "metadata": {},
     "output_type": "execute_result"
    }
   ],
   "source": [
    "df = pd.read_table('salary.txt',delim_whitespace = True)\n",
    "df.head()"
   ]
  },
  {
   "cell_type": "code",
   "execution_count": 8,
   "metadata": {
    "colab": {
     "base_uri": "https://localhost:8080/"
    },
    "executionInfo": {
     "elapsed": 686,
     "status": "ok",
     "timestamp": 1623249465202,
     "user": {
      "displayName": "kajal rai",
      "photoUrl": "https://lh3.googleusercontent.com/a-/AOh14Gg68NzXNjnWc9NwDDDkGMl-abqbDW1VuGmYTDBjgA=s64",
      "userId": "03677648993455904671"
     },
     "user_tz": -330
    },
    "id": "vx7CfzgiNRfL",
    "outputId": "02853829-1901-49c1-f29b-8b117b03caf8"
   },
   "outputs": [
    {
     "data": {
      "text/plain": [
       "sx    object\n",
       "rk    object\n",
       "yr     int64\n",
       "dg    object\n",
       "yd     int64\n",
       "sl     int64\n",
       "dtype: object"
      ]
     },
     "execution_count": 8,
     "metadata": {},
     "output_type": "execute_result"
    }
   ],
   "source": [
    "df.dtypes"
   ]
  },
  {
   "cell_type": "code",
   "execution_count": 9,
   "metadata": {
    "colab": {
     "base_uri": "https://localhost:8080/"
    },
    "executionInfo": {
     "elapsed": 408,
     "status": "ok",
     "timestamp": 1623249483757,
     "user": {
      "displayName": "kajal rai",
      "photoUrl": "https://lh3.googleusercontent.com/a-/AOh14Gg68NzXNjnWc9NwDDDkGMl-abqbDW1VuGmYTDBjgA=s64",
      "userId": "03677648993455904671"
     },
     "user_tz": -330
    },
    "id": "mXqvLB3INTec",
    "outputId": "264a18cb-e93c-4b3f-ac97-a2d43c612c83"
   },
   "outputs": [
    {
     "data": {
      "text/plain": [
       "Index(['sx', 'rk', 'yr', 'dg', 'yd', 'sl'], dtype='object')"
      ]
     },
     "execution_count": 9,
     "metadata": {},
     "output_type": "execute_result"
    }
   ],
   "source": [
    "df.columns\n"
   ]
  },
  {
   "cell_type": "code",
   "execution_count": 10,
   "metadata": {
    "colab": {
     "base_uri": "https://localhost:8080/"
    },
    "executionInfo": {
     "elapsed": 501,
     "status": "ok",
     "timestamp": 1623249517361,
     "user": {
      "displayName": "kajal rai",
      "photoUrl": "https://lh3.googleusercontent.com/a-/AOh14Gg68NzXNjnWc9NwDDDkGMl-abqbDW1VuGmYTDBjgA=s64",
      "userId": "03677648993455904671"
     },
     "user_tz": -330
    },
    "id": "fD3iigP3NYCD",
    "outputId": "87c9c37c-588d-4fe1-c21d-172094e1ee6d"
   },
   "outputs": [
    {
     "name": "stdout",
     "output_type": "stream",
     "text": [
      "<class 'pandas.core.frame.DataFrame'>\n",
      "RangeIndex: 52 entries, 0 to 51\n",
      "Data columns (total 6 columns):\n",
      " #   Column  Non-Null Count  Dtype \n",
      "---  ------  --------------  ----- \n",
      " 0   sx      52 non-null     object\n",
      " 1   rk      52 non-null     object\n",
      " 2   yr      52 non-null     int64 \n",
      " 3   dg      52 non-null     object\n",
      " 4   yd      52 non-null     int64 \n",
      " 5   sl      52 non-null     int64 \n",
      "dtypes: int64(3), object(3)\n",
      "memory usage: 2.6+ KB\n"
     ]
    }
   ],
   "source": [
    " df.info()"
   ]
  },
  {
   "cell_type": "code",
   "execution_count": 11,
   "metadata": {
    "colab": {
     "base_uri": "https://localhost:8080/",
     "height": 205
    },
    "executionInfo": {
     "elapsed": 719,
     "status": "ok",
     "timestamp": 1623249739178,
     "user": {
      "displayName": "kajal rai",
      "photoUrl": "https://lh3.googleusercontent.com/a-/AOh14Gg68NzXNjnWc9NwDDDkGMl-abqbDW1VuGmYTDBjgA=s64",
      "userId": "03677648993455904671"
     },
     "user_tz": -330
    },
    "id": "qiOxYTC_OFB0",
    "outputId": "5e77ddca-ecb5-4ac1-fe02-60801b270d06"
   },
   "outputs": [
    {
     "data": {
      "text/html": [
       "<div>\n",
       "<style scoped>\n",
       "    .dataframe tbody tr th:only-of-type {\n",
       "        vertical-align: middle;\n",
       "    }\n",
       "\n",
       "    .dataframe tbody tr th {\n",
       "        vertical-align: top;\n",
       "    }\n",
       "\n",
       "    .dataframe thead th {\n",
       "        text-align: right;\n",
       "    }\n",
       "</style>\n",
       "<table border=\"1\" class=\"dataframe\">\n",
       "  <thead>\n",
       "    <tr style=\"text-align: right;\">\n",
       "      <th></th>\n",
       "      <th>yr</th>\n",
       "      <th>yd</th>\n",
       "      <th>sl</th>\n",
       "      <th>sx_female</th>\n",
       "      <th>sx_male</th>\n",
       "      <th>rk_assistant</th>\n",
       "      <th>rk_associate</th>\n",
       "      <th>rk_full</th>\n",
       "      <th>dg_doctorate</th>\n",
       "      <th>dg_masters</th>\n",
       "    </tr>\n",
       "  </thead>\n",
       "  <tbody>\n",
       "    <tr>\n",
       "      <th>0</th>\n",
       "      <td>25</td>\n",
       "      <td>35</td>\n",
       "      <td>36350</td>\n",
       "      <td>0</td>\n",
       "      <td>1</td>\n",
       "      <td>0</td>\n",
       "      <td>0</td>\n",
       "      <td>1</td>\n",
       "      <td>1</td>\n",
       "      <td>0</td>\n",
       "    </tr>\n",
       "    <tr>\n",
       "      <th>1</th>\n",
       "      <td>13</td>\n",
       "      <td>22</td>\n",
       "      <td>35350</td>\n",
       "      <td>0</td>\n",
       "      <td>1</td>\n",
       "      <td>0</td>\n",
       "      <td>0</td>\n",
       "      <td>1</td>\n",
       "      <td>1</td>\n",
       "      <td>0</td>\n",
       "    </tr>\n",
       "    <tr>\n",
       "      <th>2</th>\n",
       "      <td>10</td>\n",
       "      <td>23</td>\n",
       "      <td>28200</td>\n",
       "      <td>0</td>\n",
       "      <td>1</td>\n",
       "      <td>0</td>\n",
       "      <td>0</td>\n",
       "      <td>1</td>\n",
       "      <td>1</td>\n",
       "      <td>0</td>\n",
       "    </tr>\n",
       "    <tr>\n",
       "      <th>3</th>\n",
       "      <td>7</td>\n",
       "      <td>27</td>\n",
       "      <td>26775</td>\n",
       "      <td>1</td>\n",
       "      <td>0</td>\n",
       "      <td>0</td>\n",
       "      <td>0</td>\n",
       "      <td>1</td>\n",
       "      <td>1</td>\n",
       "      <td>0</td>\n",
       "    </tr>\n",
       "    <tr>\n",
       "      <th>4</th>\n",
       "      <td>19</td>\n",
       "      <td>30</td>\n",
       "      <td>33696</td>\n",
       "      <td>0</td>\n",
       "      <td>1</td>\n",
       "      <td>0</td>\n",
       "      <td>0</td>\n",
       "      <td>1</td>\n",
       "      <td>0</td>\n",
       "      <td>1</td>\n",
       "    </tr>\n",
       "  </tbody>\n",
       "</table>\n",
       "</div>"
      ],
      "text/plain": [
       "   yr  yd     sl  sx_female  sx_male  rk_assistant  rk_associate  rk_full  \\\n",
       "0  25  35  36350          0        1             0             0        1   \n",
       "1  13  22  35350          0        1             0             0        1   \n",
       "2  10  23  28200          0        1             0             0        1   \n",
       "3   7  27  26775          1        0             0             0        1   \n",
       "4  19  30  33696          0        1             0             0        1   \n",
       "\n",
       "   dg_doctorate  dg_masters  \n",
       "0             1           0  \n",
       "1             1           0  \n",
       "2             1           0  \n",
       "3             1           0  \n",
       "4             0           1  "
      ]
     },
     "execution_count": 11,
     "metadata": {},
     "output_type": "execute_result"
    }
   ],
   "source": [
    "#get_dummies()\n",
    "#pandas.get_dummies() is used for data manipulation.\n",
    "# It converts categorical data into dummy or indicator variables\n",
    "\n",
    "pd.get_dummies(df,columns = ['sx','rk','dg']).head()"
   ]
  },
  {
   "cell_type": "code",
   "execution_count": 12,
   "metadata": {
    "colab": {
     "base_uri": "https://localhost:8080/",
     "height": 205
    },
    "executionInfo": {
     "elapsed": 451,
     "status": "ok",
     "timestamp": 1623249773296,
     "user": {
      "displayName": "kajal rai",
      "photoUrl": "https://lh3.googleusercontent.com/a-/AOh14Gg68NzXNjnWc9NwDDDkGMl-abqbDW1VuGmYTDBjgA=s64",
      "userId": "03677648993455904671"
     },
     "user_tz": -330
    },
    "id": "Fo_uJ_OxOWxS",
    "outputId": "84786936-89db-4741-8e97-d9ed9774f1d6"
   },
   "outputs": [
    {
     "data": {
      "text/html": [
       "<div>\n",
       "<style scoped>\n",
       "    .dataframe tbody tr th:only-of-type {\n",
       "        vertical-align: middle;\n",
       "    }\n",
       "\n",
       "    .dataframe tbody tr th {\n",
       "        vertical-align: top;\n",
       "    }\n",
       "\n",
       "    .dataframe thead th {\n",
       "        text-align: right;\n",
       "    }\n",
       "</style>\n",
       "<table border=\"1\" class=\"dataframe\">\n",
       "  <thead>\n",
       "    <tr style=\"text-align: right;\">\n",
       "      <th></th>\n",
       "      <th>yr</th>\n",
       "      <th>yd</th>\n",
       "      <th>sl</th>\n",
       "      <th>sx_male</th>\n",
       "      <th>rk_associate</th>\n",
       "      <th>rk_full</th>\n",
       "      <th>dg_masters</th>\n",
       "    </tr>\n",
       "  </thead>\n",
       "  <tbody>\n",
       "    <tr>\n",
       "      <th>0</th>\n",
       "      <td>25</td>\n",
       "      <td>35</td>\n",
       "      <td>36350</td>\n",
       "      <td>1</td>\n",
       "      <td>0</td>\n",
       "      <td>1</td>\n",
       "      <td>0</td>\n",
       "    </tr>\n",
       "    <tr>\n",
       "      <th>1</th>\n",
       "      <td>13</td>\n",
       "      <td>22</td>\n",
       "      <td>35350</td>\n",
       "      <td>1</td>\n",
       "      <td>0</td>\n",
       "      <td>1</td>\n",
       "      <td>0</td>\n",
       "    </tr>\n",
       "    <tr>\n",
       "      <th>2</th>\n",
       "      <td>10</td>\n",
       "      <td>23</td>\n",
       "      <td>28200</td>\n",
       "      <td>1</td>\n",
       "      <td>0</td>\n",
       "      <td>1</td>\n",
       "      <td>0</td>\n",
       "    </tr>\n",
       "    <tr>\n",
       "      <th>3</th>\n",
       "      <td>7</td>\n",
       "      <td>27</td>\n",
       "      <td>26775</td>\n",
       "      <td>0</td>\n",
       "      <td>0</td>\n",
       "      <td>1</td>\n",
       "      <td>0</td>\n",
       "    </tr>\n",
       "    <tr>\n",
       "      <th>4</th>\n",
       "      <td>19</td>\n",
       "      <td>30</td>\n",
       "      <td>33696</td>\n",
       "      <td>1</td>\n",
       "      <td>0</td>\n",
       "      <td>1</td>\n",
       "      <td>1</td>\n",
       "    </tr>\n",
       "  </tbody>\n",
       "</table>\n",
       "</div>"
      ],
      "text/plain": [
       "   yr  yd     sl  sx_male  rk_associate  rk_full  dg_masters\n",
       "0  25  35  36350        1             0        1           0\n",
       "1  13  22  35350        1             0        1           0\n",
       "2  10  23  28200        1             0        1           0\n",
       "3   7  27  26775        0             0        1           0\n",
       "4  19  30  33696        1             0        1           1"
      ]
     },
     "execution_count": 12,
     "metadata": {},
     "output_type": "execute_result"
    }
   ],
   "source": [
    "pd.get_dummies(df,columns = ['sx','rk','dg'],drop_first=True).head()\n"
   ]
  },
  {
   "cell_type": "code",
   "execution_count": 13,
   "metadata": {
    "colab": {
     "base_uri": "https://localhost:8080/"
    },
    "executionInfo": {
     "elapsed": 1135,
     "status": "ok",
     "timestamp": 1623249802167,
     "user": {
      "displayName": "kajal rai",
      "photoUrl": "https://lh3.googleusercontent.com/a-/AOh14Gg68NzXNjnWc9NwDDDkGMl-abqbDW1VuGmYTDBjgA=s64",
      "userId": "03677648993455904671"
     },
     "user_tz": -330
    },
    "id": "GtdcRrzzOe4Q",
    "outputId": "203946a6-8cb3-425e-f52e-96594f7f7e8a"
   },
   "outputs": [
    {
     "name": "stdout",
     "output_type": "stream",
     "text": [
      "[['0.0' '1.0' '0.0' '0.0' '1.0' '1.0' '0.0' '25.0' '35.0' '36350.0']\n",
      " ['0.0' '1.0' '0.0' '0.0' '1.0' '1.0' '0.0' '13.0' '22.0' '35350.0']\n",
      " ['0.0' '1.0' '0.0' '0.0' '1.0' '1.0' '0.0' '10.0' '23.0' '28200.0']\n",
      " ['1.0' '0.0' '0.0' '0.0' '1.0' '1.0' '0.0' '7.0' '27.0' '26775.0']\n",
      " ['0.0' '1.0' '0.0' '0.0' '1.0' '0.0' '1.0' '19.0' '30.0' '33696.0']]\n"
     ]
    }
   ],
   "source": [
    "#OneHotEncoding\n",
    "\n",
    "from sklearn.preprocessing import OneHotEncoder\n",
    "from sklearn.compose import ColumnTransformer\n",
    "columnTransformer = ColumnTransformer([('encoder',\n",
    "OneHotEncoder(),\n",
    "[0,1,3])],\n",
    "remainder='passthrough')\n",
    "data = np.array(columnTransformer.fit_transform(df), dtype = str)\n",
    "print(data[:5])\n"
   ]
  },
  {
   "cell_type": "code",
   "execution_count": null,
   "metadata": {},
   "outputs": [],
   "source": []
  },
  {
   "cell_type": "code",
   "execution_count": null,
   "metadata": {},
   "outputs": [],
   "source": []
  }
 ],
 "metadata": {
  "colab": {
   "authorship_tag": "ABX9TyOrCRmuwRueIntQnL8pyk4t",
   "collapsed_sections": [],
   "name": "Task 10 (GO_STP_4).ipynb",
   "provenance": []
  },
  "kernelspec": {
   "display_name": "Python 3",
   "language": "python",
   "name": "python3"
  },
  "language_info": {
   "codemirror_mode": {
    "name": "ipython",
    "version": 3
   },
   "file_extension": ".py",
   "mimetype": "text/x-python",
   "name": "python",
   "nbconvert_exporter": "python",
   "pygments_lexer": "ipython3",
   "version": "3.9.2"
  }
 },
 "nbformat": 4,
 "nbformat_minor": 1
}
